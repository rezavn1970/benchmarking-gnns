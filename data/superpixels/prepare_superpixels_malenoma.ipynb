{
 "cells": [
  {
   "cell_type": "markdown",
   "metadata": {},
   "source": [
    "# Notebook for preparing and saving CP graphs"
   ]
  },
  {
   "cell_type": "code",
   "execution_count": 20,
   "metadata": {},
   "outputs": [],
   "source": [
    "import numpy as np\n",
    "import torch\n",
    "import pickle\n",
    "import time\n",
    "import os\n",
    "%matplotlib inline\n",
    "import matplotlib.pyplot as plt\n"
   ]
  },
  {
   "cell_type": "markdown",
   "metadata": {},
   "source": [
    "# Download CIFAR dataset"
   ]
  },
  {
   "cell_type": "code",
   "execution_count": 21,
   "metadata": {},
   "outputs": [],
   "source": [
    "# if not os.path.isfile('superpixels.zip'):\n",
    "#     print('downloading..')\n",
    "#     !curl https://www.dropbox.com/s/y2qwa77a0fxem47/superpixels.zip?dl=1 -o superpixels.zip -J -L -k\n",
    "#     !unzip superpixels.zip -d ../\n",
    "#     # !tar -xvf superpixels.zip -C ../\n",
    "# else:\n",
    "#     print('File already downloaded')\n",
    "    "
   ]
  },
  {
   "cell_type": "markdown",
   "metadata": {},
   "source": [
    "# Convert to DGL format and save with pickle"
   ]
  },
  {
   "cell_type": "code",
   "execution_count": 22,
   "metadata": {},
   "outputs": [
    {
     "name": "stdout",
     "output_type": "stream",
     "text": [
      "C:\\\n"
     ]
    }
   ],
   "source": [
    "import os\n",
    "os.chdir('../../') # go to root folder of the project\n",
    "print(os.getcwd())\n"
   ]
  },
  {
   "cell_type": "code",
   "execution_count": 23,
   "metadata": {},
   "outputs": [
    {
     "data": {
      "text/plain": [
       "'C:\\\\'"
      ]
     },
     "execution_count": 23,
     "metadata": {},
     "output_type": "execute_result"
    }
   ],
   "source": [
    "pwd"
   ]
  },
  {
   "cell_type": "code",
   "execution_count": 24,
   "metadata": {},
   "outputs": [
    {
     "name": "stdout",
     "output_type": "stream",
     "text": [
      "The autoreload extension is already loaded. To reload it, use:\n",
      "  %reload_ext autoreload\n"
     ]
    }
   ],
   "source": [
    "import pickle\n",
    "\n",
    "%load_ext autoreload\n",
    "%autoreload 2\n",
    "\n",
    "from data.superpixels import SuperPixDatasetDGL \n",
    "\n",
    "from data.data import LoadData\n",
    "from torch.utils.data import DataLoader\n",
    "from data.superpixels import SuperPixDataset\n"
   ]
  },
  {
   "cell_type": "code",
   "execution_count": 25,
   "metadata": {},
   "outputs": [
    {
     "name": "stdout",
     "output_type": "stream",
     "text": [
      "Adj matrix defined from super-pixel locations + features\n",
      "coord type before reshape <class 'numpy.ndarray'>\n",
      "mean type before reshape <class 'numpy.ndarray'>\n",
      "preparing 660 graphs for the TEST set...\n",
      "coord type before reshape <class 'numpy.ndarray'>\n",
      "mean type before reshape <class 'numpy.ndarray'>\n",
      "preparing 2637 graphs for the TRAIN set...\n",
      "[I] Data load time: 158.3463s\n",
      "Time (sec): 173.13511490821838\n"
     ]
    }
   ],
   "source": [
    "start = time.time()\n",
    "\n",
    "DATASET_NAME = 'melanoma'\n",
    "dataset = SuperPixDatasetDGL(DATASET_NAME) \n",
    "print('Time (sec):',time.time() - start) # 636s=10min\n"
   ]
  },
  {
   "cell_type": "code",
   "execution_count": 26,
   "metadata": {},
   "outputs": [
    {
     "name": "stdout",
     "output_type": "stream",
     "text": [
      "DGLGraph(num_nodes=286, num_edges=2288,\n",
      "         ndata_schemes={'feat': Scheme(shape=(5,), dtype=torch.float16)}\n",
      "         edata_schemes={'feat': Scheme(shape=(1,), dtype=torch.float16)})\n"
     ]
    },
    {
     "data": {
      "image/png": "[encoded data removed]",
      "text/plain": [
       "<Figure size 432x288 with 1 Axes>"
      ]
     },
     "metadata": {
      "needs_background": "light"
     },
     "output_type": "display_data"
    },
    {
     "name": "stdout",
     "output_type": "stream",
     "text": [
      "nb/min/max : 1 286 286\n",
      "DGLGraph(num_nodes=289, num_edges=2312,\n",
      "         ndata_schemes={'feat': Scheme(shape=(5,), dtype=torch.float16)}\n",
      "         edata_schemes={'feat': Scheme(shape=(1,), dtype=torch.float16)})\n"
     ]
    },
    {
     "data": {
      "image/png": "[encoded data removed]",
      "text/plain": [
       "<Figure size 432x288 with 1 Axes>"
      ]
     },
     "metadata": {
      "needs_background": "light"
     },
     "output_type": "display_data"
    },
    {
     "name": "stdout",
     "output_type": "stream",
     "text": [
      "nb/min/max : 1 289 289\n",
      "DGLGraph(num_nodes=289, num_edges=2312,\n",
      "         ndata_schemes={'feat': Scheme(shape=(5,), dtype=torch.float16)}\n",
      "         edata_schemes={'feat': Scheme(shape=(1,), dtype=torch.float16)})\n"
     ]
    },
    {
     "data": {
      "image/png": "[encoded data removed]",
      "text/plain": [
       "<Figure size 432x288 with 1 Axes>"
      ]
     },
     "metadata": {
      "needs_background": "light"
     },
     "output_type": "display_data"
    },
    {
     "name": "stdout",
     "output_type": "stream",
     "text": [
      "nb/min/max : 1 289 289\n"
     ]
    }
   ],
   "source": [
    "def plot_histo_graphs(dataset, title):\n",
    "    # histogram of graph sizes\n",
    "    graph_sizes = []\n",
    "#     print(\"we are here1\")\n",
    "    for graph in dataset:\n",
    "        print(graph[0])\n",
    "        graph_sizes.append(graph[0].number_of_nodes())\n",
    "        #graph_sizes.append(graph[0].number_of_edges())\n",
    "        break\n",
    "    plt.figure(1)\n",
    "    plt.hist(graph_sizes, bins=20)\n",
    "    plt.title(title)\n",
    "    plt.show()\n",
    "    graph_sizes = torch.Tensor(graph_sizes)\n",
    "    print('nb/min/max :',len(graph_sizes),graph_sizes.min().long().item(),graph_sizes.max().long().item())\n",
    "    \n",
    "plot_histo_graphs(dataset.train,'trainset')\n",
    "plot_histo_graphs(dataset.val,'valset')\n",
    "plot_histo_graphs(dataset.test,'testset')\n"
   ]
  },
  {
   "cell_type": "code",
   "execution_count": null,
   "metadata": {},
   "outputs": [],
   "source": []
  },
  {
   "cell_type": "code",
   "execution_count": 27,
   "metadata": {},
   "outputs": [
    {
     "name": "stdout",
     "output_type": "stream",
     "text": [
      "2635\n",
      "2\n",
      "660\n",
      "(2635, 3)\n",
      "(2, 3)\n",
      "(660, 3)\n",
      "(DGLGraph(num_nodes=286, num_edges=2288,\n",
      "         ndata_schemes={'feat': Scheme(shape=(5,), dtype=torch.float16)}\n",
      "         edata_schemes={'feat': Scheme(shape=(1,), dtype=torch.float16)}), tensor(1), tensor([[[ 1.5982,  1.3584,  1.2899,  ...,  1.3584,  1.2899,  1.1187],\n",
      "         [ 1.6667,  1.5468,  1.4098,  ...,  1.3413,  1.0159,  1.0502],\n",
      "         [ 1.5125,  1.5297,  1.4612,  ...,  1.1015,  0.9817,  1.0502],\n",
      "         ...,\n",
      "         [ 1.2043,  1.5810,  1.5468,  ...,  1.3242,  1.4612,  1.2899],\n",
      "         [ 1.5982,  1.5810,  1.2214,  ...,  1.2557,  1.4269,  1.5468],\n",
      "         [ 1.8208,  1.7523,  1.3755,  ...,  1.2899,  1.5125,  1.8722]],\n",
      "\n",
      "        [[ 0.0476, -0.1450, -0.2850,  ..., -0.4076, -0.2325, -0.3901],\n",
      "         [ 0.0826, -0.0224, -0.0924,  ..., -0.4076, -0.4251, -0.3725],\n",
      "         [-0.1275, -0.1275, -0.2150,  ..., -0.3550, -0.6352, -0.5126],\n",
      "         ...,\n",
      "         [-0.1975,  0.3452,  0.3978,  ..., -0.4076, -0.4601, -0.6352],\n",
      "         [ 0.5203,  0.7479,  0.3627,  ..., -0.3375, -0.4076, -0.2500],\n",
      "         [ 0.6429,  0.7654,  0.4153,  ..., -0.2850, -0.2500,  0.1176]],\n",
      "\n",
      "        [[ 0.2173,  0.0082, -0.0615,  ...,  0.0953,  0.1302, -0.0267],\n",
      "         [ 0.2871,  0.1651,  0.1128,  ...,  0.1476, -0.0790, -0.0441],\n",
      "         [ 0.0431,  0.0431, -0.0267,  ...,  0.0953, -0.1312, -0.0615],\n",
      "         ...,\n",
      "         [-0.1661,  0.2871,  0.7054,  ..., -0.0441,  0.0256, -0.2010],\n",
      "         [ 0.7576,  0.9494,  0.5659,  ..., -0.0267,  0.1476,  0.2348],\n",
      "         [ 0.8971,  1.0191,  0.6182,  ...,  0.0256,  0.2522,  0.6182]]]))\n",
      "(DGLGraph(num_nodes=289, num_edges=2312,\n",
      "         ndata_schemes={'feat': Scheme(shape=(5,), dtype=torch.float16)}\n",
      "         edata_schemes={'feat': Scheme(shape=(1,), dtype=torch.float16)}), tensor(0), tensor([[[0.9646, 0.9817, 1.0331,  ..., 1.0673, 1.0844, 1.1015],\n",
      "         [0.9646, 0.9646, 0.9988,  ..., 1.1015, 1.0844, 1.0673],\n",
      "         [0.9817, 0.9817, 0.9817,  ..., 1.0844, 1.0673, 1.0331],\n",
      "         ...,\n",
      "         [1.0331, 1.0331, 1.0331,  ..., 1.0844, 1.1015, 1.0844],\n",
      "         [1.0159, 1.0502, 1.0502,  ..., 1.1015, 1.0844, 1.0844],\n",
      "         [0.9988, 1.0331, 1.0331,  ..., 1.1015, 1.0844, 1.1015]],\n",
      "\n",
      "        [[0.8529, 0.8704, 0.9230,  ..., 1.0805, 1.0805, 1.0455],\n",
      "         [0.8704, 0.8529, 0.9055,  ..., 1.0805, 1.0280, 0.9755],\n",
      "         [0.8880, 0.8880, 0.9055,  ..., 1.0280, 0.9580, 0.9405],\n",
      "         ...,\n",
      "         [1.0105, 1.0105, 0.9930,  ..., 0.9580, 0.9580, 0.9755],\n",
      "         [1.0280, 1.0280, 0.9755,  ..., 0.9755, 0.9755, 0.9755],\n",
      "         [1.0630, 1.0280, 0.9930,  ..., 0.9755, 0.9755, 0.9930]],\n",
      "\n",
      "        [[0.9494, 0.9668, 1.0365,  ..., 1.2631, 1.2805, 1.2631],\n",
      "         [0.9319, 0.9494, 1.0017,  ..., 1.2805, 1.2457, 1.1934],\n",
      "         [0.9494, 0.9668, 0.9842,  ..., 1.2631, 1.1759, 1.1585],\n",
      "         ...,\n",
      "         [1.1934, 1.2108, 1.2282,  ..., 1.2805, 1.2805, 1.3154],\n",
      "         [1.1934, 1.2282, 1.2108,  ..., 1.2980, 1.2805, 1.3154],\n",
      "         [1.2282, 1.2282, 1.2108,  ..., 1.2980, 1.2805, 1.2980]]]))\n",
      "(DGLGraph(num_nodes=289, num_edges=2312,\n",
      "         ndata_schemes={'feat': Scheme(shape=(5,), dtype=torch.float16)}\n",
      "         edata_schemes={'feat': Scheme(shape=(1,), dtype=torch.float16)}), tensor(0), tensor([[[1.7352, 1.7009, 1.7180,  ..., 1.6495, 1.6153, 1.6153],\n",
      "         [1.7009, 1.7009, 1.7180,  ..., 1.6153, 1.5810, 1.6153],\n",
      "         [1.7180, 1.7180, 1.7180,  ..., 1.6324, 1.6153, 1.6324],\n",
      "         ...,\n",
      "         [1.5982, 1.5982, 1.6153,  ..., 1.6153, 1.6324, 1.6324],\n",
      "         [1.6324, 1.6495, 1.6324,  ..., 1.6324, 1.6324, 1.6324],\n",
      "         [1.6838, 1.6495, 1.5982,  ..., 1.6324, 1.6153, 1.5982]],\n",
      "\n",
      "        [[1.3081, 1.3431, 1.3606,  ..., 1.0980, 1.0805, 1.0805],\n",
      "         [1.3256, 1.3606, 1.3782,  ..., 1.0805, 1.0455, 1.0805],\n",
      "         [1.3606, 1.3606, 1.3606,  ..., 1.0980, 1.0805, 1.0980],\n",
      "         ...,\n",
      "         [1.2031, 1.2381, 1.2381,  ..., 1.2206, 1.2381, 1.2381],\n",
      "         [1.1681, 1.2381, 1.2556,  ..., 1.2381, 1.2381, 1.2381],\n",
      "         [1.0630, 1.1506, 1.2206,  ..., 1.2381, 1.2206, 1.2381]],\n",
      "\n",
      "        [[1.5071, 1.5245, 1.5420,  ..., 1.3328, 1.3154, 1.3154],\n",
      "         [1.5071, 1.5071, 1.5245,  ..., 1.3328, 1.3154, 1.3154],\n",
      "         [1.5245, 1.5245, 1.5071,  ..., 1.3328, 1.3154, 1.3328],\n",
      "         ...,\n",
      "         [1.4025, 1.4374, 1.4374,  ..., 1.4548, 1.4722, 1.4722],\n",
      "         [1.3677, 1.4200, 1.4374,  ..., 1.4722, 1.4722, 1.4722],\n",
      "         [1.3328, 1.3677, 1.4374,  ..., 1.4722, 1.4548, 1.4548]]]))\n"
     ]
    }
   ],
   "source": [
    "print(len(dataset.train))\n",
    "print(len(dataset.val))\n",
    "print(len(dataset.test))\n",
    "\n",
    "print(np.shape(dataset.train))\n",
    "print(np.shape(dataset.val))\n",
    "print(np.shape(dataset.test))\n",
    "\n",
    "print(dataset.train[0])\n",
    "print(dataset.val[0])\n",
    "print(dataset.test[0])\n"
   ]
  },
  {
   "cell_type": "code",
   "execution_count": 28,
   "metadata": {},
   "outputs": [
    {
     "name": "stdout",
     "output_type": "stream",
     "text": [
      "Time (sec): 16.627745866775513\n"
     ]
    }
   ],
   "source": [
    "start = time.time()\n",
    "\n",
    "with open('C:/Users/rezav/PycharmProjects/benchmarking-gnns/data/superpixels/melanoma.pkl','wb') as f:\n",
    "        pickle.dump([dataset.train,dataset.val,dataset.test],f)\n",
    "        \n",
    "print('Time (sec):',time.time() - start) # 58s\n"
   ]
  },
  {
   "cell_type": "markdown",
   "metadata": {},
   "source": [
    "# Test load function"
   ]
  },
  {
   "cell_type": "code",
   "execution_count": 29,
   "metadata": {},
   "outputs": [
    {
     "name": "stdout",
     "output_type": "stream",
     "text": [
      "[I] Loading dataset melanoma...\n",
      "train, test, val sizes : 2635 660 2\n",
      "[I] Finished loading.\n",
      "[I] Data load time: 9.7722s\n"
     ]
    }
   ],
   "source": [
    "DATASET_NAME = 'melanoma'\n",
    "# dataset = LoadData(DATASET_NAME) # 54s\n",
    "dataset = SuperPixDataset(DATASET_NAME)\n",
    "trainset, valset, testset = dataset.train, dataset.val, dataset.test\n"
   ]
  },
  {
   "cell_type": "code",
   "execution_count": 30,
   "metadata": {},
   "outputs": [
    {
     "name": "stdout",
     "output_type": "stream",
     "text": [
      "2635\n",
      "2\n",
      "660\n",
      "(2635, 3)\n",
      "(2, 3)\n",
      "(660, 3)\n",
      "(DGLGraph(num_nodes=286, num_edges=2288,\n",
      "         ndata_schemes={'feat': Scheme(shape=(5,), dtype=torch.float16)}\n",
      "         edata_schemes={'feat': Scheme(shape=(1,), dtype=torch.float16)}), tensor(1), tensor([[[ 1.5982,  1.3584,  1.2899,  ...,  1.3584,  1.2899,  1.1187],\n",
      "         [ 1.6667,  1.5468,  1.4098,  ...,  1.3413,  1.0159,  1.0502],\n",
      "         [ 1.5125,  1.5297,  1.4612,  ...,  1.1015,  0.9817,  1.0502],\n",
      "         ...,\n",
      "         [ 1.2043,  1.5810,  1.5468,  ...,  1.3242,  1.4612,  1.2899],\n",
      "         [ 1.5982,  1.5810,  1.2214,  ...,  1.2557,  1.4269,  1.5468],\n",
      "         [ 1.8208,  1.7523,  1.3755,  ...,  1.2899,  1.5125,  1.8722]],\n",
      "\n",
      "        [[ 0.0476, -0.1450, -0.2850,  ..., -0.4076, -0.2325, -0.3901],\n",
      "         [ 0.0826, -0.0224, -0.0924,  ..., -0.4076, -0.4251, -0.3725],\n",
      "         [-0.1275, -0.1275, -0.2150,  ..., -0.3550, -0.6352, -0.5126],\n",
      "         ...,\n",
      "         [-0.1975,  0.3452,  0.3978,  ..., -0.4076, -0.4601, -0.6352],\n",
      "         [ 0.5203,  0.7479,  0.3627,  ..., -0.3375, -0.4076, -0.2500],\n",
      "         [ 0.6429,  0.7654,  0.4153,  ..., -0.2850, -0.2500,  0.1176]],\n",
      "\n",
      "        [[ 0.2173,  0.0082, -0.0615,  ...,  0.0953,  0.1302, -0.0267],\n",
      "         [ 0.2871,  0.1651,  0.1128,  ...,  0.1476, -0.0790, -0.0441],\n",
      "         [ 0.0431,  0.0431, -0.0267,  ...,  0.0953, -0.1312, -0.0615],\n",
      "         ...,\n",
      "         [-0.1661,  0.2871,  0.7054,  ..., -0.0441,  0.0256, -0.2010],\n",
      "         [ 0.7576,  0.9494,  0.5659,  ..., -0.0267,  0.1476,  0.2348],\n",
      "         [ 0.8971,  1.0191,  0.6182,  ...,  0.0256,  0.2522,  0.6182]]]))\n",
      "(DGLGraph(num_nodes=289, num_edges=2312,\n",
      "         ndata_schemes={'feat': Scheme(shape=(5,), dtype=torch.float16)}\n",
      "         edata_schemes={'feat': Scheme(shape=(1,), dtype=torch.float16)}), tensor(0), tensor([[[0.9646, 0.9817, 1.0331,  ..., 1.0673, 1.0844, 1.1015],\n",
      "         [0.9646, 0.9646, 0.9988,  ..., 1.1015, 1.0844, 1.0673],\n",
      "         [0.9817, 0.9817, 0.9817,  ..., 1.0844, 1.0673, 1.0331],\n",
      "         ...,\n",
      "         [1.0331, 1.0331, 1.0331,  ..., 1.0844, 1.1015, 1.0844],\n",
      "         [1.0159, 1.0502, 1.0502,  ..., 1.1015, 1.0844, 1.0844],\n",
      "         [0.9988, 1.0331, 1.0331,  ..., 1.1015, 1.0844, 1.1015]],\n",
      "\n",
      "        [[0.8529, 0.8704, 0.9230,  ..., 1.0805, 1.0805, 1.0455],\n",
      "         [0.8704, 0.8529, 0.9055,  ..., 1.0805, 1.0280, 0.9755],\n",
      "         [0.8880, 0.8880, 0.9055,  ..., 1.0280, 0.9580, 0.9405],\n",
      "         ...,\n",
      "         [1.0105, 1.0105, 0.9930,  ..., 0.9580, 0.9580, 0.9755],\n",
      "         [1.0280, 1.0280, 0.9755,  ..., 0.9755, 0.9755, 0.9755],\n",
      "         [1.0630, 1.0280, 0.9930,  ..., 0.9755, 0.9755, 0.9930]],\n",
      "\n",
      "        [[0.9494, 0.9668, 1.0365,  ..., 1.2631, 1.2805, 1.2631],\n",
      "         [0.9319, 0.9494, 1.0017,  ..., 1.2805, 1.2457, 1.1934],\n",
      "         [0.9494, 0.9668, 0.9842,  ..., 1.2631, 1.1759, 1.1585],\n",
      "         ...,\n",
      "         [1.1934, 1.2108, 1.2282,  ..., 1.2805, 1.2805, 1.3154],\n",
      "         [1.1934, 1.2282, 1.2108,  ..., 1.2980, 1.2805, 1.3154],\n",
      "         [1.2282, 1.2282, 1.2108,  ..., 1.2980, 1.2805, 1.2980]]]))\n",
      "(DGLGraph(num_nodes=289, num_edges=2312,\n",
      "         ndata_schemes={'feat': Scheme(shape=(5,), dtype=torch.float16)}\n",
      "         edata_schemes={'feat': Scheme(shape=(1,), dtype=torch.float16)}), tensor(0), tensor([[[1.7352, 1.7009, 1.7180,  ..., 1.6495, 1.6153, 1.6153],\n",
      "         [1.7009, 1.7009, 1.7180,  ..., 1.6153, 1.5810, 1.6153],\n",
      "         [1.7180, 1.7180, 1.7180,  ..., 1.6324, 1.6153, 1.6324],\n",
      "         ...,\n",
      "         [1.5982, 1.5982, 1.6153,  ..., 1.6153, 1.6324, 1.6324],\n",
      "         [1.6324, 1.6495, 1.6324,  ..., 1.6324, 1.6324, 1.6324],\n",
      "         [1.6838, 1.6495, 1.5982,  ..., 1.6324, 1.6153, 1.5982]],\n",
      "\n",
      "        [[1.3081, 1.3431, 1.3606,  ..., 1.0980, 1.0805, 1.0805],\n",
      "         [1.3256, 1.3606, 1.3782,  ..., 1.0805, 1.0455, 1.0805],\n",
      "         [1.3606, 1.3606, 1.3606,  ..., 1.0980, 1.0805, 1.0980],\n",
      "         ...,\n",
      "         [1.2031, 1.2381, 1.2381,  ..., 1.2206, 1.2381, 1.2381],\n",
      "         [1.1681, 1.2381, 1.2556,  ..., 1.2381, 1.2381, 1.2381],\n",
      "         [1.0630, 1.1506, 1.2206,  ..., 1.2381, 1.2206, 1.2381]],\n",
      "\n",
      "        [[1.5071, 1.5245, 1.5420,  ..., 1.3328, 1.3154, 1.3154],\n",
      "         [1.5071, 1.5071, 1.5245,  ..., 1.3328, 1.3154, 1.3154],\n",
      "         [1.5245, 1.5245, 1.5071,  ..., 1.3328, 1.3154, 1.3328],\n",
      "         ...,\n",
      "         [1.4025, 1.4374, 1.4374,  ..., 1.4548, 1.4722, 1.4722],\n",
      "         [1.3677, 1.4200, 1.4374,  ..., 1.4722, 1.4722, 1.4722],\n",
      "         [1.3328, 1.3677, 1.4374,  ..., 1.4722, 1.4548, 1.4548]]]))\n"
     ]
    }
   ],
   "source": [
    "print(len(trainset))\n",
    "print(len(valset))\n",
    "print(len(testset))\n",
    "\n",
    "print(np.shape(trainset))\n",
    "print(np.shape(valset))\n",
    "print(np.shape(testset))\n",
    "\n",
    "print(trainset[0])\n",
    "print(valset[0])\n",
    "print(testset[0])"
   ]
  },
  {
   "cell_type": "code",
   "execution_count": 31,
   "metadata": {},
   "outputs": [
    {
     "name": "stdout",
     "output_type": "stream",
     "text": [
      "Time (sec): 8.448692083358765\n"
     ]
    }
   ],
   "source": [
    "start = time.time()\n",
    "\n",
    "##me: Create mini-batches for MP-GCNs\n",
    "\n",
    "batch_size = 10\n",
    "collate = SuperPixDataset.collate\n",
    "train_loader = DataLoader(trainset, batch_size=batch_size, shuffle=True, collate_fn=collate)\n",
    "##for the WL-GNN :\n",
    "#train_loader = DataLoader(dataset.train, shuffle=True, collate_fn=MoleculeDataset.collate_dense_gnn)\n",
    "\n",
    "print('Time (sec):',time.time() - start) # 0.0001s\n"
   ]
  },
  {
   "cell_type": "code",
   "execution_count": 13,
   "metadata": {},
   "outputs": [
    {
     "data": {
      "text/plain": [
       "(1197, 4)"
      ]
     },
     "execution_count": 13,
     "metadata": {},
     "output_type": "execute_result"
    }
   ],
   "source": [
    "with open('C:/Users/rezav/PycharmProjects/benchmarking-gnns/data/superpixels/malignant_train_superpixels.pkl', 'rb') as f:\n",
    "    # load the data as binary data stream\n",
    "    each_type = pickle.load(f)\n",
    "np.shape(each_type)"
   ]
  },
  {
   "cell_type": "code",
   "execution_count": null,
   "metadata": {},
   "outputs": [],
   "source": []
  }
 ],
 "metadata": {
  "kernelspec": {
   "display_name": "Python 3",
   "language": "python",
   "name": "python3"
  },
  "language_info": {
   "codemirror_mode": {
    "name": "ipython",
    "version": 3
   },
   "file_extension": ".py",
   "mimetype": "text/x-python",
   "name": "python",
   "nbconvert_exporter": "python",
   "pygments_lexer": "ipython3",
   "version": "3.7.4"
  }
 },
 "nbformat": 4,
 "nbformat_minor": 4
}
