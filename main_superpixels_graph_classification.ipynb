{
 "cells": [
  {
   "cell_type": "markdown",
   "metadata": {},
   "source": [
    "## Main Driver Notebook for Training Graph NNs on Image Superpixels Datasets"
   ]
  },
  {
   "cell_type": "markdown",
   "metadata": {},
   "source": [
    "### MODELS\n",
    "- GatedGCN \n",
    "- GCN \n",
    "- GAT \n",
    "- GraphSage  \n",
    "- GIN  \n",
    "- MoNet  \n",
    "- MLP  \n",
    "- RingGNN  \n",
    "- 3WLGNN    \n",
    "\n",
    "### DATASET\n",
    "- MNIST  \n",
    "- CIFAR10\n",
    "\n",
    "### TASK\n",
    "- Graph Classification, i.e. Image Classification in classes"
   ]
  },
  {
   "cell_type": "code",
   "execution_count": 3,
   "metadata": {},
   "outputs": [],
   "source": [
    "\"\"\"\n",
    "    IMPORTING LIBS\n",
    "\"\"\"\n",
    "import dgl\n",
    "\n",
    "import numpy as np\n",
    "import os\n",
    "import socket\n",
    "import time\n",
    "import random\n",
    "import glob\n",
    "import argparse, json\n",
    "import pickle\n",
    "\n",
    "import torch\n",
    "import torch.nn as nn\n",
    "import torch.nn.functional as F\n",
    "\n",
    "import torch.optim as optim\n",
    "from torch.utils.data import DataLoader\n",
    "\n",
    "from tensorboardX import SummaryWriter\n",
    "from tqdm import tqdm\n",
    "\n",
    "class DotDict(dict):\n",
    "    def __init__(self, **kwds):\n",
    "        self.update(kwds)\n",
    "        self.__dict__ = self"
   ]
  },
  {
   "cell_type": "code",
   "execution_count": 4,
   "metadata": {},
   "outputs": [
    {
     "name": "stdout",
     "output_type": "stream",
     "text": [
      "True\n",
      "The autoreload extension is already loaded. To reload it, use:\n",
      "  %reload_ext autoreload\n"
     ]
    }
   ],
   "source": [
    "# \"\"\"\n",
    "#     AUTORELOAD IPYTHON EXTENSION FOR RELOADING IMPORTED MODULES\n",
    "# \"\"\"\n",
    "\n",
    "def in_ipynb():\n",
    "    try:\n",
    "        cfg = get_ipython().config \n",
    "        return True\n",
    "    except NameError:\n",
    "        return False\n",
    "    \n",
    "notebook_mode = in_ipynb()\n",
    "print(notebook_mode)\n",
    "\n",
    "if notebook_mode == True:\n",
    "    %load_ext autoreload\n",
    "    %autoreload 2"
   ]
  },
  {
   "cell_type": "code",
   "execution_count": 5,
   "metadata": {},
   "outputs": [
    {
     "name": "stdout",
     "output_type": "stream",
     "text": [
      "done!\n"
     ]
    }
   ],
   "source": [
    "\"\"\"\n",
    "    IMPORTING CUSTOM MODULES/METHODS\n",
    "\"\"\"\n",
    "\n",
    "from nets.superpixels_graph_classification.load_net import gnn_model # import all GNNS\n",
    "from data.data import LoadData # import dataset\n",
    "print(\"done!\")\n",
    "# from load_net import gnn_model # import all GNNS\n",
    "# from seconddata import LoadData # import dataset\n"
   ]
  },
  {
   "cell_type": "code",
   "execution_count": 6,
   "metadata": {},
   "outputs": [],
   "source": [
    "\"\"\"\n",
    "    GPU Setup\n",
    "\"\"\"\n",
    "def gpu_setup(use_gpu, gpu_id):\n",
    "    os.environ[\"CUDA_DEVICE_ORDER\"] = \"PCI_BUS_ID\"\n",
    "    os.environ[\"CUDA_VISIBLE_DEVICES\"] = str(gpu_id)  \n",
    "\n",
    "    if torch.cuda.is_available() and use_gpu:\n",
    "        print('cuda available with GPU:',torch.cuda.get_device_name(0))\n",
    "        device = torch.device(\"cuda\")\n",
    "    else:\n",
    "        print('cuda not available')\n",
    "        device = torch.device(\"cpu\")\n",
    "    return device\n",
    "\n",
    "\n",
    "use_gpu = True\n",
    "gpu_id = -1\n",
    "device = None\n"
   ]
  },
  {
   "cell_type": "code",
   "execution_count": 7,
   "metadata": {},
   "outputs": [
    {
     "name": "stdout",
     "output_type": "stream",
     "text": [
      "[I] Loading data (notebook) ...\n",
      "[I] Loading dataset melanoma...\n",
      "train, test, val sizes : 2635 660 2\n",
      "[I] Finished loading.\n",
      "[I] Data load time: 3.9934s\n",
      "[I] Finished loading.\n"
     ]
    }
   ],
   "source": [
    "# \"\"\"\n",
    "#     USER CONTROLS\n",
    "# \"\"\"\n",
    "if notebook_mode == True:\n",
    "    \n",
    "    # MODEL_NAME = '3WLGNN'\n",
    "    # MODEL_NAME = 'RingGNN'\n",
    "    MODEL_NAME = 'GatedGCN'\n",
    "    # MODEL_NAME = 'MoNet'\n",
    "#     MODEL_NAME = 'GCN'\n",
    "    # MODEL_NAME = 'GAT'\n",
    "    # MODEL_NAME = 'GraphSage'\n",
    "    # MODEL_NAME = 'DiffPool'\n",
    "    # MODEL_NAME = 'MLP'\n",
    "    # MODEL_NAME = 'GIN'\n",
    "\n",
    "#     DATASET_NAME = 'MNIST'\n",
    "#     DATASET_NAME = 'CIFAR10'\n",
    "#     DATASET_NAME = 'CP'\n",
    "    DATASET_NAME = 'melanoma'\n",
    "\n",
    "    out_dir = 'out/superpixels_graph_classification/'\n",
    "    root_log_dir = out_dir + 'logs/' + MODEL_NAME + \"_\" + DATASET_NAME + \"_\" + time.strftime('%Hh%Mm%Ss_on_%b_%d_%Y')\n",
    "    root_ckpt_dir = out_dir + 'checkpoints/' + MODEL_NAME + \"_\" + DATASET_NAME + \"_\" + time.strftime('%Hh%Mm%Ss_on_%b_%d_%Y')\n",
    "\n",
    "    print(\"[I] Loading data (notebook) ...\")\n",
    "    dataset = LoadData(DATASET_NAME)\n",
    "#     print(\"this is the dataset\",dataset) # Me: this is a superpix obj\n",
    "    trainset, valset, testset = dataset.train, dataset.val, dataset.test\n",
    "#     print(\"this is trainset\",trainset) # Me: this is a DGL obj\n",
    "    print(\"[I] Finished loading.\")\n",
    "    "
   ]
  },
  {
   "cell_type": "code",
   "execution_count": 8,
   "metadata": {},
   "outputs": [],
   "source": [
    "#MODEL_NAME = 'RingGNN'\n",
    "MODEL_NAME = 'GatedGCN'\n",
    "# MODEL_NAME = 'GCN'\n",
    "#MODEL_NAME = 'GAT'\n",
    "#MODEL_NAME = 'GraphSage'\n",
    "#MODEL_NAME = 'MLP'\n",
    "#MODEL_NAME = 'DiffPool'\n",
    "#MODEL_NAME = 'GIN'\n",
    "#MODEL_NAME = 'MoNet'\n"
   ]
  },
  {
   "cell_type": "code",
   "execution_count": 12,
   "metadata": {},
   "outputs": [],
   "source": [
    "# \"\"\"\n",
    "#     PARAMETERS\n",
    "# \"\"\"\n",
    "if notebook_mode == True:\n",
    "\n",
    "    n_heads = -1\n",
    "    edge_feat = False\n",
    "    pseudo_dim_MoNet = -1\n",
    "    kernel = -1\n",
    "    gnn_per_block = -1\n",
    "    embedding_dim = -1\n",
    "    pool_ratio = -1\n",
    "    n_mlp_GIN = -1\n",
    "    gated = False\n",
    "    self_loop = False\n",
    "    #self_loop = True\n",
    "    max_time = 12\n",
    "    \n",
    "    \n",
    "\n",
    "    if MODEL_NAME == 'GatedGCN':\n",
    "        seed=41; epochs=1000; batch_size=5; init_lr=5e-5; lr_reduce_factor=0.7; lr_schedule_patience=25; min_lr = 1e-6; weight_decay=0\n",
    "        L=4; hidden_dim=70; out_dim=hidden_dim; dropout=0.1; readout='mean'\n",
    "\n",
    "    if MODEL_NAME == 'GCN':\n",
    "        seed=41; epochs=1000; batch_size=5; init_lr=5e-5; lr_reduce_factor=0.7; lr_schedule_patience=25; min_lr = 1e-6; weight_decay=0\n",
    "        L=4; hidden_dim=146; out_dim=hidden_dim; dropout=0.1; readout='mean'\n",
    "\n",
    "    if MODEL_NAME == 'GAT':\n",
    "        seed=41; epochs=1000; batch_size=50; init_lr=5e-5; lr_reduce_factor=0.5; lr_schedule_patience=25; min_lr = 1e-6; weight_decay=0\n",
    "        L=4; n_heads=8; hidden_dim=19; out_dim=n_heads*hidden_dim; dropout=0.0; readout='mean'\n",
    "        print('True hidden dim:',out_dim)\n",
    "\n",
    "    if MODEL_NAME == 'GraphSage':\n",
    "        seed=41; epochs=1000; batch_size=50; init_lr=5e-5; lr_reduce_factor=0.5; lr_schedule_patience=25; min_lr = 1e-6; weight_decay=0\n",
    "        L=4; hidden_dim=108; out_dim=hidden_dim; dropout=0.0; readout='mean'\n",
    "\n",
    "    if MODEL_NAME == 'MLP':\n",
    "        seed=41; epochs=1000; batch_size=50; init_lr=5e-4; lr_reduce_factor=0.5; lr_schedule_patience=25; min_lr = 1e-6; weight_decay=0\n",
    "        gated=False; # MEAN\n",
    "        L=4; hidden_dim=168; out_dim=hidden_dim; dropout=0.0; readout='mean'\n",
    "        gated=True; # GATED\n",
    "        L=4; hidden_dim=150; out_dim=hidden_dim; dropout=0.0; readout='mean'\n",
    "        \n",
    "    if MODEL_NAME == 'DiffPool':\n",
    "        seed=41; epochs=1000; batch_size=50; init_lr=5e-4; lr_reduce_factor=0.5; lr_schedule_patience=25; min_lr = 1e-6; weight_decay=0\n",
    "        L=4; hidden_dim=32; out_dim=hidden_dim; dropout=0.0; readout='mean'\n",
    "        n_heads=8; gnn_per_block=3; batch_size=128; pool_ratio=0.15\n",
    "        embedding_dim=32; # MNIST\n",
    "        #embedding_dim=16; # CIFAR10\n",
    "\n",
    "    if MODEL_NAME == 'GIN':\n",
    "        seed=41; epochs=1000; batch_size=50; init_lr=5e-4; lr_reduce_factor=0.5; lr_schedule_patience=25; min_lr = 1e-6; weight_decay=0\n",
    "        L=4; hidden_dim=110; out_dim=hidden_dim; dropout=0.0; readout='mean'\n",
    "        n_mlp_GIN = 2; learn_eps_GIN=True; neighbor_aggr_GIN='sum'\n",
    "\n",
    "    if MODEL_NAME == 'MoNet':\n",
    "        seed=41; epochs=1000; batch_size=50; init_lr=5e-4; lr_reduce_factor=0.5; lr_schedule_patience=25; min_lr = 1e-6; weight_decay=0\n",
    "        L=4; hidden_dim=90; out_dim=hidden_dim; dropout=0.0; readout='mean'\n",
    "        pseudo_dim_MoNet=2; kernel=3;\n",
    "        \n",
    "    if MODEL_NAME == 'RingGNN':\n",
    "        seed=41; epochs=1000; batch_size=1; init_lr=5e-5; lr_reduce_factor=0.5; lr_schedule_patience=25; min_lr = 1e-6; weight_decay=0\n",
    "        #L=4; hidden_dim=145; out_dim=hidden_dim; dropout=0.0; readout='mean'\n",
    "        L=4; hidden_dim=25; out_dim=hidden_dim; dropout=0.0;\n",
    "        \n",
    "    if MODEL_NAME == '3WLGNN':\n",
    "        seed=41; epochs=1000; batch_size=1; init_lr=5e-5; lr_reduce_factor=0.5; lr_schedule_patience=25; min_lr = 1e-6; weight_decay=0\n",
    "        #L=4; hidden_dim=145; out_dim=hidden_dim; dropout=0.0; readout='mean'\n",
    "        L=3; hidden_dim=80; out_dim=hidden_dim; dropout=0.0;\n",
    "      \n",
    "    \n",
    "    \n",
    "    # generic new_params\n",
    "    net_params = {}\n",
    "    net_params['device'] = device\n",
    "    net_params['gated'] = gated  # for mlpnet baseline\n",
    "    net_params['in_dim'] = trainset[0][0].ndata['feat'][0].size(0)\n",
    "    net_params['in_dim_edge'] = trainset[0][0].edata['feat'][0].size(0)\n",
    "    net_params['residual'] = True\n",
    "    net_params['hidden_dim'] = hidden_dim\n",
    "    net_params['out_dim'] = out_dim\n",
    "    num_classes = len(np.unique(np.array(trainset[:][1])))\n",
    "    net_params['n_classes'] = num_classes\n",
    "    net_params['n_heads'] = n_heads\n",
    "    net_params['L'] = L  # min L should be 2\n",
    "    net_params['readout'] = \"sum\"\n",
    "    net_params['layer_norm'] = True\n",
    "    net_params['batch_norm'] = True\n",
    "    net_params['in_feat_dropout'] = 0.0\n",
    "    net_params['dropout'] = 0.0\n",
    "    net_params['edge_feat'] = edge_feat\n",
    "    net_params['self_loop'] = self_loop\n",
    "\n",
    "    # for MLPNet \n",
    "    net_params['gated'] = gated  \n",
    "    \n",
    "    # specific for MoNet\n",
    "    net_params['pseudo_dim_MoNet'] = pseudo_dim_MoNet\n",
    "    net_params['kernel'] = kernel\n",
    "    \n",
    "    # specific for GIN\n",
    "    net_params['n_mlp_GIN'] = n_mlp_GIN\n",
    "    net_params['learn_eps_GIN'] = True\n",
    "    net_params['neighbor_aggr_GIN'] = 'sum'\n",
    "    \n",
    "    # specific for graphsage\n",
    "    net_params['sage_aggregator'] = 'meanpool'    \n",
    "\n",
    "    # specific for diffpoolnet\n",
    "    net_params['data_mode'] = 'default'\n",
    "    net_params['gnn_per_block'] = gnn_per_block\n",
    "    net_params['embedding_dim'] = embedding_dim     \n",
    "    net_params['pool_ratio'] = pool_ratio\n",
    "    net_params['linkpred'] = True\n",
    "    net_params['num_pool'] = 1\n",
    "    net_params['cat'] = False\n",
    "    net_params['batch_size'] = batch_size   \n",
    "\n",
    "    # specific for RingGNN\n",
    "    net_params['radius'] = 2\n",
    "    num_nodes_train = [trainset[i][0].number_of_nodes() for i in range(len(trainset))]\n",
    "    num_nodes_test = [testset[i][0].number_of_nodes() for i in range(len(testset))]\n",
    "    num_nodes = num_nodes_train + num_nodes_test\n",
    "    net_params['avg_node_num'] = int(np.ceil(np.mean(num_nodes)))\n",
    "    \n",
    "    # specific for 3WLGNN\n",
    "    net_params['depth_of_mlp'] = 2\n",
    "    \n",
    "    # calculate assignment dimension: pool_ratio * largest graph's maximum\n",
    "    # number of nodes  in the dataset\n",
    "    max_num_nodes_train = max(num_nodes_train)\n",
    "    max_num_nodes_test = max(num_nodes_test)\n",
    "    max_num_node = max(max_num_nodes_train, max_num_nodes_test)\n",
    "    net_params['assign_dim'] = int(max_num_node * net_params['pool_ratio']) * net_params['batch_size']\n",
    "\n",
    "    #Warm start:\n",
    "    net_params['warm_start_flag'] = False\n",
    "    net_params['warm_start_path'] = 'C:/Users/rezav/PycharmProjects/benchmarking-gnns/out/superpixels_graph_classification/checkpoints/GatedGCN_CP_GPU-1_13h12m53s_on_Feb_28_2021/RUN_/epoch_294.pkl'\n"
   ]
  },
  {
   "cell_type": "code",
   "execution_count": 13,
   "metadata": {},
   "outputs": [
    {
     "name": "stdout",
     "output_type": "stream",
     "text": [
      "MODEL DETAILS:\n",
      "\n",
      "MODEL/Total parameters: GatedGCN 104213\n"
     ]
    }
   ],
   "source": [
    "\"\"\"\n",
    "    VIEWING MODEL CONFIG AND PARAMS\n",
    "\"\"\"\n",
    "def view_model_param(MODEL_NAME, net_params):\n",
    "    model = gnn_model(MODEL_NAME, net_params)\n",
    "    total_param = 0\n",
    "    print(\"MODEL DETAILS:\\n\")\n",
    "    #print(model)\n",
    "    for param in model.parameters():\n",
    "        # print(param.data.size())\n",
    "        total_param += np.prod(list(param.data.size()))\n",
    "    print('MODEL/Total parameters:', MODEL_NAME, total_param)\n",
    "    return total_param\n",
    "\n",
    "\n",
    "if notebook_mode == True:\n",
    "    view_model_param(MODEL_NAME, net_params)"
   ]
  },
  {
   "cell_type": "code",
   "execution_count": 14,
   "metadata": {},
   "outputs": [],
   "source": [
    "\"\"\"\n",
    "    TRAINING CODE\n",
    "\"\"\"\n",
    "\n",
    "def train_val_pipeline(MODEL_NAME, dataset, params, net_params, dirs):\n",
    "    t0 = time.time()\n",
    "    per_epoch_time = []\n",
    "        \n",
    "    DATASET_NAME = dataset.name\n",
    "    \n",
    "    if MODEL_NAME in ['GCN', 'GAT']:\n",
    "        if net_params['self_loop']:\n",
    "            print(\"[!] Adding graph self-loops for GCN/GAT models (central node trick).\")\n",
    "            dataset._add_self_loops()\n",
    "    \n",
    "    trainset, valset, testset = dataset.train, dataset.val, dataset.test\n",
    "        \n",
    "    root_log_dir, root_ckpt_dir, write_file_name, write_config_file = dirs\n",
    "    device = net_params['device']\n",
    "    \n",
    "    # Write the network and optimization hyper-parameters in folder config/\n",
    "    with open(write_config_file + '.txt', 'w') as f:\n",
    "        f.write(\"\"\"Dataset: {},\\nModel: {}\\n\\nparams={}\\n\\nnet_params={}\\n\\n\\nTotal Parameters: {}\\n\\n\"\"\"\\\n",
    "                .format(DATASET_NAME, MODEL_NAME, params, net_params, net_params['total_param']))\n",
    "        \n",
    "    log_dir = os.path.join(root_log_dir, \"RUN_\" + str(0))\n",
    "    writer = SummaryWriter(log_dir=log_dir)\n",
    "\n",
    "    # setting seeds\n",
    "    random.seed(params['seed'])\n",
    "    np.random.seed(params['seed'])\n",
    "    torch.manual_seed(params['seed'])\n",
    "    if device.type == 'cuda':\n",
    "        torch.cuda.manual_seed(params['seed'])\n",
    "    \n",
    "    print(\"Training Graphs: \", len(trainset))\n",
    "    print(\"Validation Graphs: \", len(valset))\n",
    "    print(\"Test Graphs: \", len(testset))\n",
    "    print(\"Number of Classes: \", net_params['n_classes'])\n",
    "\n",
    "    model = gnn_model(MODEL_NAME, net_params)\n",
    "    if net_params['warm_start_flag'] == True:\n",
    "        model.load_state_dict(torch.load(net_params['warm_start_path']))\n",
    "    model = model.to(device)\n",
    "\n",
    "    optimizer = optim.Adam(model.parameters(), lr=params['init_lr'], weight_decay=params['weight_decay'])\n",
    "    scheduler = optim.lr_scheduler.ReduceLROnPlateau(optimizer, mode='min',\n",
    "                                                     factor=params['lr_reduce_factor'],\n",
    "                                                     patience=params['lr_schedule_patience'],\n",
    "                                                     verbose=True)\n",
    "    \n",
    "    epoch_train_losses, epoch_val_losses = [], []\n",
    "    epoch_train_accs, epoch_val_accs = [], [] \n",
    "    \n",
    "    # batching exception for Diffpool\n",
    "    drop_last = True if MODEL_NAME == 'DiffPool' else False\n",
    "    \n",
    "    if MODEL_NAME in ['RingGNN', '3WLGNN']:\n",
    "        # import train functions specific for WL-GNNs\n",
    "        from train.train_superpixels_graph_classification import train_epoch_dense as train_epoch, evaluate_network_dense as evaluate_network\n",
    "\n",
    "        train_loader = DataLoader(trainset, shuffle=True, collate_fn=dataset.collate_dense_gnn)\n",
    "        val_loader = DataLoader(valset, shuffle=False, collate_fn=dataset.collate_dense_gnn)\n",
    "        test_loader = DataLoader(testset, shuffle=False, collate_fn=dataset.collate_dense_gnn)\n",
    "\n",
    "    else:\n",
    "        # import train functions for all other GCNs\n",
    "        from train.train_superpixels_graph_classification import train_epoch_sparse as train_epoch, evaluate_network_sparse as evaluate_network\n",
    "        \n",
    "        \n",
    "        train_loader = DataLoader(trainset, batch_size=params['batch_size'], shuffle=True, drop_last=drop_last, collate_fn=dataset.collate)\n",
    "        val_loader = DataLoader(valset, batch_size=params['batch_size'], shuffle=False, drop_last=drop_last, collate_fn=dataset.collate)\n",
    "        test_loader = DataLoader(testset, batch_size=params['batch_size'], shuffle=False, drop_last=drop_last, collate_fn=dataset.collate)\n",
    "\n",
    "    # At any point you can hit Ctrl + C to break out of training early.\n",
    "    try:\n",
    "        with tqdm(range(params['epochs'])) as t:\n",
    "            for epoch in t:\n",
    "\n",
    "                t.set_description('Epoch %d' % epoch)\n",
    "\n",
    "                start = time.time()\n",
    "\n",
    "                if MODEL_NAME in ['RingGNN', '3WLGNN']: # since different batch training function for dense GNNs\n",
    "                    epoch_train_loss, epoch_train_acc, optimizer = train_epoch(model, optimizer, device, train_loader, epoch, params['batch_size'])\n",
    "                else:   # for all other models common train function\n",
    "                    epoch_train_loss, epoch_train_acc, optimizer = train_epoch(model, optimizer, device, train_loader, epoch)\n",
    "\n",
    "                epoch_val_loss, epoch_val_acc = evaluate_network(model, device, val_loader, epoch)\n",
    "                _, epoch_test_acc = evaluate_network(model, device, test_loader, epoch)                \n",
    "                \n",
    "                epoch_train_losses.append(epoch_train_loss)\n",
    "                epoch_val_losses.append(epoch_val_loss)\n",
    "                epoch_train_accs.append(epoch_train_acc)\n",
    "                epoch_val_accs.append(epoch_val_acc)\n",
    "\n",
    "                writer.add_scalar('train/_loss', epoch_train_loss, epoch)\n",
    "                writer.add_scalar('val/_loss', epoch_val_loss, epoch)\n",
    "                writer.add_scalar('train/_acc', epoch_train_acc, epoch)\n",
    "                writer.add_scalar('val/_acc', epoch_val_acc, epoch)\n",
    "                writer.add_scalar('test/_acc', epoch_test_acc, epoch)\n",
    "                writer.add_scalar('learning_rate', optimizer.param_groups[0]['lr'], epoch)\n",
    "\n",
    "                \n",
    "                t.set_postfix(time=time.time()-start, lr=optimizer.param_groups[0]['lr'],\n",
    "                              train_loss=epoch_train_loss, val_loss=epoch_val_loss,\n",
    "                              train_acc=epoch_train_acc, val_acc=epoch_val_acc,\n",
    "                              test_acc=epoch_test_acc)    \n",
    "\n",
    "                per_epoch_time.append(time.time()-start)\n",
    "\n",
    "                # Saving checkpoint\n",
    "                ckpt_dir = os.path.join(root_ckpt_dir, \"RUN_\")\n",
    "                if not os.path.exists(ckpt_dir):\n",
    "                    os.makedirs(ckpt_dir)\n",
    "                torch.save(model.state_dict(), '{}.pkl'.format(ckpt_dir + \"/epoch_\" + str(epoch)))\n",
    "                \n",
    "                \n",
    "                files = glob.glob(ckpt_dir + '/*.pkl')\n",
    "                for file in files:\n",
    "                    epoch_nb = file.split('_')[-1]\n",
    "                    epoch_nb = int(epoch_nb.split('.')[0])\n",
    "                    if epoch_nb < epoch-1:\n",
    "                        os.remove(file)\n",
    "\n",
    "                scheduler.step(epoch_val_loss)\n",
    "                \n",
    "                ##ME: I am commenting the following breaks so the model can go all the way to the end\n",
    "\n",
    "                if optimizer.param_groups[0]['lr'] < params['min_lr']:\n",
    "                    print(\"\\n!! LR EQUAL TO MIN LR SET.\")\n",
    "                    optimizer.param_groups[0]['lr'] = params['min_lr']\n",
    "#                     break\n",
    "                    \n",
    "#                 # Stop training after params['max_time'] hours\n",
    "#                 if time.time()-t0 > params['max_time']*360000:#I changed from: *3600:\n",
    "#                     print('-' * 89)\n",
    "#                     print(\"Max_time for training elapsed {:.2f} hours, so stopping\".format(params['max_time']))\n",
    "#                     break\n",
    "    \n",
    "    except KeyboardInterrupt:\n",
    "        print('-' * 89)\n",
    "        print('Exiting from training early because of KeyboardInterrupt')\n",
    "    \n",
    "    _, test_acc = evaluate_network(model, device, test_loader, epoch)\n",
    "    _, train_acc = evaluate_network(model, device, train_loader, epoch)\n",
    "    print(\"Test Accuracy: {:.4f}\".format(test_acc))\n",
    "    print(\"Train Accuracy: {:.4f}\".format(train_acc))\n",
    "    print(\"Convergence Time (Epochs): {:.4f}\".format(epoch))\n",
    "    print(\"TOTAL TIME TAKEN: {:.4f}s\".format(time.time()-t0))\n",
    "    print(\"AVG TIME PER EPOCH: {:.4f}s\".format(np.mean(per_epoch_time)))\n",
    "\n",
    "    writer.close()\n",
    "\n",
    "    \"\"\"\n",
    "        Write the results in out_dir/results folder\n",
    "    \"\"\"\n",
    "    with open(write_file_name + '.txt', 'w') as f:\n",
    "        f.write(\"\"\"Dataset: {},\\nModel: {}\\n\\nparams={}\\n\\nnet_params={}\\n\\n{}\\n\\nTotal Parameters: {}\\n\\n\n",
    "    FINAL RESULTS\\nTEST ACCURACY: {:.4f}\\nTRAIN ACCURACY: {:.4f}\\n\\n\n",
    "    Convergence Time (Epochs): {:.4f}\\nTotal Time Taken: {:.4f} hrs\\nAverage Time Per Epoch: {:.4f} s\\n\\n\\n\"\"\"\\\n",
    "          .format(DATASET_NAME, MODEL_NAME, params, net_params, model, net_params['total_param'],\n",
    "                  np.mean(np.array(test_acc))*100, np.mean(np.array(train_acc))*100, epoch, (time.time()-t0)/3600, np.mean(per_epoch_time)))\n",
    "        \n",
    "        \n",
    "        \n",
    "    return model, test_loader\n",
    "               "
   ]
  },
  {
   "cell_type": "code",
   "execution_count": 15,
   "metadata": {},
   "outputs": [],
   "source": [
    "#Me\n",
    "from train.train_superpixels_graph_classification import evaluate_network_final"
   ]
  },
  {
   "cell_type": "code",
   "execution_count": 16,
   "metadata": {},
   "outputs": [
    {
     "name": "stdout",
     "output_type": "stream",
     "text": [
      "Convert main_superpixels_graph_classification.ipynb to main_superpixels_graph_classification.py\n",
      "Clean main_superpixels_graph_classification.py\n",
      "Done. \n",
      "[I] Loading dataset melanoma...\n"
     ]
    },
    {
     "name": "stderr",
     "output_type": "stream",
     "text": [
      "Epoch 0:   0%|                                                                                                                              | 0/1000 [00:00<?, ?it/s]"
     ]
    },
    {
     "name": "stdout",
     "output_type": "stream",
     "text": [
      "train, test, val sizes : 2635 660 2\n",
      "[I] Finished loading.\n",
      "[I] Data load time: 4.3112s\n",
      "cuda not available\n",
      "MODEL DETAILS:\n",
      "\n",
      "MODEL/Total parameters: GatedGCN 104213\n",
      "Training Graphs:  2635\n",
      "Validation Graphs:  2\n",
      "Test Graphs:  660\n",
      "Number of Classes:  2\n"
     ]
    },
    {
     "name": "stderr",
     "output_type": "stream",
     "text": [
      "Epoch 47:   5%|▌           | 47/1000 [7:04:19<143:51:56, 543.46s/it, lr=5e-5, test_acc=0.545, time=543, train_acc=0.701, train_loss=1.18, val_acc=0.5, val_loss=6.15]"
     ]
    },
    {
     "name": "stdout",
     "output_type": "stream",
     "text": [
      "Epoch    46: reducing learning rate of group 0 to 3.5000e-05.\n"
     ]
    },
    {
     "name": "stderr",
     "output_type": "stream",
     "text": [
      "Epoch 73:   7%|▉           | 73/1000 [11:00:54<142:04:31, 551.75s/it, lr=3.5e-5, test_acc=0.658, time=555, train_acc=0.703, train_loss=1.03, val_acc=1, val_loss=0.2]"
     ]
    },
    {
     "name": "stdout",
     "output_type": "stream",
     "text": [
      "Epoch    72: reducing learning rate of group 0 to 2.4500e-05.\n"
     ]
    },
    {
     "name": "stderr",
     "output_type": "stream",
     "text": [
      "Epoch 99:  10%|▋      | 99/1000 [15:08:44<145:37:53, 581.88s/it, lr=2.45e-5, test_acc=0.821, time=581, train_acc=0.746, train_loss=0.744, val_acc=1, val_loss=0.0019]"
     ]
    },
    {
     "name": "stdout",
     "output_type": "stream",
     "text": [
      "Epoch    98: reducing learning rate of group 0 to 1.7150e-05.\n"
     ]
    },
    {
     "name": "stderr",
     "output_type": "stream",
     "text": [
      "Epoch 125:  12%|▋    | 125/1000 [19:17:37<138:54:49, 571.53s/it, lr=1.71e-5, test_acc=0.729, time=573, train_acc=0.744, train_loss=0.782, val_acc=1, val_loss=0.0985]"
     ]
    },
    {
     "name": "stdout",
     "output_type": "stream",
     "text": [
      "Epoch   124: reducing learning rate of group 0 to 1.2005e-05.\n"
     ]
    },
    {
     "name": "stderr",
     "output_type": "stream",
     "text": [
      "Epoch 151:  15%|▊    | 151/1000 [23:22:59<133:16:39, 565.13s/it, lr=1.2e-5, test_acc=0.829, time=569, train_acc=0.797, train_loss=0.512, val_acc=1, val_loss=0.00544]"
     ]
    },
    {
     "name": "stdout",
     "output_type": "stream",
     "text": [
      "Epoch   150: reducing learning rate of group 0 to 8.4035e-06.\n"
     ]
    },
    {
     "name": "stderr",
     "output_type": "stream",
     "text": [
      "Epoch 177:  18%|▉    | 177/1000 [27:28:58<128:37:49, 562.66s/it, lr=8.4e-6, test_acc=0.832, time=563, train_acc=0.791, train_loss=0.489, val_acc=1, val_loss=0.00782]"
     ]
    },
    {
     "name": "stdout",
     "output_type": "stream",
     "text": [
      "Epoch   176: reducing learning rate of group 0 to 5.8824e-06.\n"
     ]
    },
    {
     "name": "stderr",
     "output_type": "stream",
     "text": [
      "Epoch 203:  20%|▊   | 203/1000 [31:33:55<125:25:24, 566.53s/it, lr=5.88e-6, test_acc=0.817, time=573, train_acc=0.835, train_loss=0.371, val_acc=1, val_loss=0.00471]"
     ]
    },
    {
     "name": "stdout",
     "output_type": "stream",
     "text": [
      "Epoch   202: reducing learning rate of group 0 to 4.1177e-06.\n"
     ]
    },
    {
     "name": "stderr",
     "output_type": "stream",
     "text": [
      "Epoch 229:  23%|█▏   | 229/1000 [35:41:40<123:12:40, 575.31s/it, lr=4.12e-6, test_acc=0.826, time=575, train_acc=0.835, train_loss=0.372, val_acc=1, val_loss=0.0056]"
     ]
    },
    {
     "name": "stdout",
     "output_type": "stream",
     "text": [
      "Epoch   228: reducing learning rate of group 0 to 2.8824e-06.\n"
     ]
    },
    {
     "name": "stderr",
     "output_type": "stream",
     "text": [
      "Epoch 255:  26%|█   | 255/1000 [39:50:58<118:07:13, 570.78s/it, lr=2.88e-6, test_acc=0.818, time=572, train_acc=0.828, train_loss=0.376, val_acc=1, val_loss=0.00414]"
     ]
    },
    {
     "name": "stdout",
     "output_type": "stream",
     "text": [
      "Epoch   254: reducing learning rate of group 0 to 2.0177e-06.\n"
     ]
    },
    {
     "name": "stderr",
     "output_type": "stream",
     "text": [
      "Epoch 281:  28%|█   | 281/1000 [43:58:01<114:06:45, 571.36s/it, lr=2.02e-6, test_acc=0.833, time=572, train_acc=0.846, train_loss=0.353, val_acc=1, val_loss=0.00676]"
     ]
    },
    {
     "name": "stdout",
     "output_type": "stream",
     "text": [
      "Epoch   280: reducing learning rate of group 0 to 1.4124e-06.\n"
     ]
    },
    {
     "name": "stderr",
     "output_type": "stream",
     "text": [
      "Epoch 307:  31%|█▏  | 307/1000 [48:05:11<110:35:22, 574.49s/it, lr=1.41e-6, test_acc=0.815, time=576, train_acc=0.842, train_loss=0.348, val_acc=1, val_loss=0.00515]"
     ]
    },
    {
     "name": "stdout",
     "output_type": "stream",
     "text": [
      "Epoch   306: reducing learning rate of group 0 to 9.8866e-07.\n",
      "\n",
      "!! LR EQUAL TO MIN LR SET.\n"
     ]
    },
    {
     "name": "stderr",
     "output_type": "stream",
     "text": [
      "Epoch 333:  33%|██▎    | 333/1000 [52:12:56<105:42:22, 570.53s/it, lr=1e-6, test_acc=0.821, time=570, train_acc=0.841, train_loss=0.345, val_acc=1, val_loss=0.00539]"
     ]
    },
    {
     "name": "stdout",
     "output_type": "stream",
     "text": [
      "Epoch   332: reducing learning rate of group 0 to 7.0000e-07.\n",
      "\n",
      "!! LR EQUAL TO MIN LR SET.\n"
     ]
    },
    {
     "name": "stderr",
     "output_type": "stream",
     "text": [
      "Epoch 359:  36%|██▊     | 359/1000 [56:18:51<101:11:08, 568.28s/it, lr=1e-6, test_acc=0.823, time=567, train_acc=0.845, train_loss=0.347, val_acc=1, val_loss=0.0113]"
     ]
    },
    {
     "name": "stdout",
     "output_type": "stream",
     "text": [
      "Epoch   358: reducing learning rate of group 0 to 7.0000e-07.\n",
      "\n",
      "!! LR EQUAL TO MIN LR SET.\n"
     ]
    },
    {
     "name": "stderr",
     "output_type": "stream",
     "text": [
      "Epoch 385:  38%|███▍     | 385/1000 [60:26:46<96:21:55, 564.09s/it, lr=1e-6, test_acc=0.827, time=560, train_acc=0.846, train_loss=0.336, val_acc=1, val_loss=0.0105]"
     ]
    },
    {
     "name": "stdout",
     "output_type": "stream",
     "text": [
      "Epoch   384: reducing learning rate of group 0 to 7.0000e-07.\n",
      "\n",
      "!! LR EQUAL TO MIN LR SET.\n"
     ]
    },
    {
     "name": "stderr",
     "output_type": "stream",
     "text": [
      "Epoch 411:  41%|███▋     | 411/1000 [64:31:58<92:21:53, 564.54s/it, lr=1e-6, test_acc=0.83, time=563, train_acc=0.838, train_loss=0.346, val_acc=1, val_loss=0.00861]"
     ]
    },
    {
     "name": "stdout",
     "output_type": "stream",
     "text": [
      "Epoch   410: reducing learning rate of group 0 to 7.0000e-07.\n",
      "\n",
      "!! LR EQUAL TO MIN LR SET.\n"
     ]
    },
    {
     "name": "stderr",
     "output_type": "stream",
     "text": [
      "Epoch 437:  44%|███▍    | 437/1000 [68:39:07<90:05:41, 576.09s/it, lr=1e-6, test_acc=0.835, time=575, train_acc=0.851, train_loss=0.333, val_acc=1, val_loss=0.00785]"
     ]
    },
    {
     "name": "stdout",
     "output_type": "stream",
     "text": [
      "Epoch   436: reducing learning rate of group 0 to 7.0000e-07.\n",
      "\n",
      "!! LR EQUAL TO MIN LR SET.\n"
     ]
    },
    {
     "name": "stderr",
     "output_type": "stream",
     "text": [
      "Epoch 463:  46%|███▋    | 463/1000 [72:48:58<85:50:39, 575.49s/it, lr=1e-6, test_acc=0.833, time=576, train_acc=0.844, train_loss=0.343, val_acc=1, val_loss=0.00665]"
     ]
    },
    {
     "name": "stdout",
     "output_type": "stream",
     "text": [
      "Epoch   462: reducing learning rate of group 0 to 7.0000e-07.\n",
      "\n",
      "!! LR EQUAL TO MIN LR SET.\n"
     ]
    },
    {
     "name": "stderr",
     "output_type": "stream",
     "text": [
      "Epoch 489:  49%|███▉    | 489/1000 [76:57:19<81:05:57, 571.35s/it, lr=1e-6, test_acc=0.821, time=575, train_acc=0.848, train_loss=0.338, val_acc=1, val_loss=0.00537]"
     ]
    },
    {
     "name": "stdout",
     "output_type": "stream",
     "text": [
      "Epoch   488: reducing learning rate of group 0 to 7.0000e-07.\n",
      "\n",
      "!! LR EQUAL TO MIN LR SET.\n"
     ]
    },
    {
     "name": "stderr",
     "output_type": "stream",
     "text": [
      "Epoch 515:  52%|████▋    | 515/1000 [81:12:36<79:16:34, 588.44s/it, lr=1e-6, test_acc=0.826, time=595, train_acc=0.852, train_loss=0.329, val_acc=1, val_loss=0.0109]"
     ]
    },
    {
     "name": "stdout",
     "output_type": "stream",
     "text": [
      "Epoch   514: reducing learning rate of group 0 to 7.0000e-07.\n",
      "\n",
      "!! LR EQUAL TO MIN LR SET.\n"
     ]
    },
    {
     "name": "stderr",
     "output_type": "stream",
     "text": [
      "Epoch 541:  54%|████▎   | 541/1000 [85:26:56<75:30:02, 592.16s/it, lr=1e-6, test_acc=0.835, time=590, train_acc=0.843, train_loss=0.337, val_acc=1, val_loss=0.00646]"
     ]
    },
    {
     "name": "stdout",
     "output_type": "stream",
     "text": [
      "Epoch   540: reducing learning rate of group 0 to 7.0000e-07.\n",
      "\n",
      "!! LR EQUAL TO MIN LR SET.\n"
     ]
    },
    {
     "name": "stderr",
     "output_type": "stream",
     "text": [
      "Epoch 567:  57%|████▌   | 567/1000 [89:43:42<71:04:30, 590.92s/it, lr=1e-6, test_acc=0.832, time=590, train_acc=0.863, train_loss=0.332, val_acc=1, val_loss=0.00816]"
     ]
    },
    {
     "name": "stdout",
     "output_type": "stream",
     "text": [
      "Epoch   566: reducing learning rate of group 0 to 7.0000e-07.\n",
      "\n",
      "!! LR EQUAL TO MIN LR SET.\n"
     ]
    },
    {
     "name": "stderr",
     "output_type": "stream",
     "text": [
      "Epoch 593:  59%|████▋   | 593/1000 [93:52:52<64:40:01, 571.99s/it, lr=1e-6, test_acc=0.835, time=569, train_acc=0.842, train_loss=0.347, val_acc=1, val_loss=0.00816]"
     ]
    },
    {
     "name": "stdout",
     "output_type": "stream",
     "text": [
      "Epoch   592: reducing learning rate of group 0 to 7.0000e-07.\n",
      "\n",
      "!! LR EQUAL TO MIN LR SET.\n"
     ]
    },
    {
     "name": "stderr",
     "output_type": "stream",
     "text": [
      "Epoch 619:  62%|█████▌   | 619/1000 [98:00:20<60:31:48, 571.94s/it, lr=1e-6, test_acc=0.818, time=574, train_acc=0.851, train_loss=0.342, val_acc=1, val_loss=0.0134]"
     ]
    },
    {
     "name": "stdout",
     "output_type": "stream",
     "text": [
      "Epoch   618: reducing learning rate of group 0 to 7.0000e-07.\n",
      "\n",
      "!! LR EQUAL TO MIN LR SET.\n"
     ]
    },
    {
     "name": "stderr",
     "output_type": "stream",
     "text": [
      "Epoch 645:  64%|█████▏  | 645/1000 [102:05:02<55:51:59, 566.54s/it, lr=1e-6, test_acc=0.818, time=569, train_acc=0.849, train_loss=0.336, val_acc=1, val_loss=0.0122]"
     ]
    },
    {
     "name": "stdout",
     "output_type": "stream",
     "text": [
      "Epoch   644: reducing learning rate of group 0 to 7.0000e-07.\n",
      "\n",
      "!! LR EQUAL TO MIN LR SET.\n"
     ]
    },
    {
     "name": "stderr",
     "output_type": "stream",
     "text": [
      "Epoch 671:  67%|████▋  | 671/1000 [106:18:56<53:56:10, 590.19s/it, lr=1e-6, test_acc=0.835, time=590, train_acc=0.854, train_loss=0.328, val_acc=1, val_loss=0.00803]"
     ]
    },
    {
     "name": "stdout",
     "output_type": "stream",
     "text": [
      "Epoch   670: reducing learning rate of group 0 to 7.0000e-07.\n",
      "\n",
      "!! LR EQUAL TO MIN LR SET.\n"
     ]
    },
    {
     "name": "stderr",
     "output_type": "stream",
     "text": [
      "Epoch 681:  68%|█████▍  | 681/1000 [108:05:08<50:37:49, 571.38s/it, lr=1e-6, test_acc=0.833, time=587, train_acc=0.847, train_loss=0.333, val_acc=1, val_loss=0.0112]\n"
     ]
    },
    {
     "name": "stdout",
     "output_type": "stream",
     "text": [
      "-----------------------------------------------------------------------------------------\n",
      "Exiting from training early because of KeyboardInterrupt\n",
      "Test Accuracy: 0.8197\n",
      "Train Accuracy: 0.8721\n",
      "Convergence Time (Epochs): 681.0000\n",
      "TOTAL TIME TAKEN: 389328.6250s\n",
      "AVG TIME PER EPOCH: 570.6192s\n"
     ]
    },
    {
     "ename": "ValueError",
     "evalue": "too many values to unpack (expected 4)",
     "output_type": "error",
     "traceback": [
      "\u001b[1;31m---------------------------------------------------------------------------\u001b[0m",
      "\u001b[1;31mValueError\u001b[0m                                Traceback (most recent call last)",
      "\u001b[1;32m<ipython-input-16-62aeb6765200>\u001b[0m in \u001b[0;36m<module>\u001b[1;34m\u001b[0m\n\u001b[0;32m    242\u001b[0m     \u001b[0mcleaner_main\u001b[0m\u001b[1;33m(\u001b[0m\u001b[1;34m'main_superpixels_graph_classification'\u001b[0m\u001b[1;33m)\u001b[0m\u001b[1;33m\u001b[0m\u001b[1;33m\u001b[0m\u001b[0m\n\u001b[0;32m    243\u001b[0m \u001b[1;33m\u001b[0m\u001b[0m\n\u001b[1;32m--> 244\u001b[1;33m     \u001b[0mmain\u001b[0m\u001b[1;33m(\u001b[0m\u001b[1;32mTrue\u001b[0m\u001b[1;33m,\u001b[0m\u001b[0mconfig\u001b[0m\u001b[1;33m)\u001b[0m\u001b[1;33m\u001b[0m\u001b[1;33m\u001b[0m\u001b[0m\n\u001b[0m\u001b[0;32m    245\u001b[0m \u001b[1;33m\u001b[0m\u001b[0m\n\u001b[0;32m    246\u001b[0m \u001b[1;32melse\u001b[0m\u001b[1;33m:\u001b[0m\u001b[1;33m\u001b[0m\u001b[1;33m\u001b[0m\u001b[0m\n",
      "\u001b[1;32m<ipython-input-16-62aeb6765200>\u001b[0m in \u001b[0;36mmain\u001b[1;34m(notebook_mode, config)\u001b[0m\n\u001b[0;32m    207\u001b[0m     \u001b[1;31m#Me\u001b[0m\u001b[1;33m\u001b[0m\u001b[1;33m\u001b[0m\u001b[1;33m\u001b[0m\u001b[0m\n\u001b[0;32m    208\u001b[0m     \u001b[1;32mfrom\u001b[0m \u001b[0mtrain\u001b[0m\u001b[1;33m.\u001b[0m\u001b[0mtrain_superpixels_graph_classification\u001b[0m \u001b[1;32mimport\u001b[0m \u001b[0mevaluate_network_final\u001b[0m\u001b[1;33m\u001b[0m\u001b[1;33m\u001b[0m\u001b[0m\n\u001b[1;32m--> 209\u001b[1;33m     \u001b[0mepoch_test_loss\u001b[0m\u001b[1;33m,\u001b[0m \u001b[0mepoch_test_acc\u001b[0m\u001b[1;33m,\u001b[0m \u001b[0mfinal_prediction\u001b[0m\u001b[1;33m,\u001b[0m \u001b[0mscores\u001b[0m \u001b[1;33m=\u001b[0m \u001b[0mevaluate_network_final\u001b[0m\u001b[1;33m(\u001b[0m\u001b[0mtrained_model\u001b[0m\u001b[1;33m,\u001b[0m \u001b[0mdevice\u001b[0m\u001b[1;33m,\u001b[0m \u001b[0mtest_loader\u001b[0m\u001b[1;33m)\u001b[0m\u001b[1;33m\u001b[0m\u001b[1;33m\u001b[0m\u001b[0m\n\u001b[0m\u001b[0;32m    210\u001b[0m     \u001b[0mprint\u001b[0m\u001b[1;33m(\u001b[0m\u001b[1;34m\"final predictions\"\u001b[0m\u001b[1;33m,\u001b[0m\u001b[0mfinal_prediction\u001b[0m\u001b[1;33m)\u001b[0m\u001b[1;33m\u001b[0m\u001b[1;33m\u001b[0m\u001b[0m\n\u001b[0;32m    211\u001b[0m \u001b[1;33m\u001b[0m\u001b[0m\n",
      "\u001b[1;31mValueError\u001b[0m: too many values to unpack (expected 4)"
     ]
    }
   ],
   "source": [
    "def main(notebook_mode=False,config=None):\n",
    "    \n",
    "    \"\"\"\n",
    "        USER CONTROLS\n",
    "    \"\"\"\n",
    "    \n",
    "    # terminal mode\n",
    "    if notebook_mode==False:\n",
    "        \n",
    "        parser = argparse.ArgumentParser()\n",
    "        parser.add_argument('--config', help=\"Please give a config.json file with training/model/data/param details\")\n",
    "        parser.add_argument('--gpu_id', help=\"Please give a value for gpu id\")\n",
    "        parser.add_argument('--model', help=\"Please give a value for model name\")\n",
    "        parser.add_argument('--dataset', help=\"Please give a value for dataset name\")\n",
    "        parser.add_argument('--out_dir', help=\"Please give a value for out_dir\")\n",
    "        parser.add_argument('--seed', help=\"Please give a value for seed\")\n",
    "        parser.add_argument('--epochs', help=\"Please give a value for epochs\")\n",
    "        parser.add_argument('--batch_size', help=\"Please give a value for batch_size\")\n",
    "        parser.add_argument('--init_lr', help=\"Please give a value for init_lr\")\n",
    "        parser.add_argument('--lr_reduce_factor', help=\"Please give a value for lr_reduce_factor\")\n",
    "        parser.add_argument('--lr_schedule_patience', help=\"Please give a value for lr_schedule_patience\")\n",
    "        parser.add_argument('--min_lr', help=\"Please give a value for min_lr\")\n",
    "        parser.add_argument('--weight_decay', help=\"Please give a value for weight_decay\")\n",
    "        parser.add_argument('--print_epoch_interval', help=\"Please give a value for print_epoch_interval\")    \n",
    "        parser.add_argument('--L', help=\"Please give a value for L\")\n",
    "        parser.add_argument('--hidden_dim', help=\"Please give a value for hidden_dim\")\n",
    "        parser.add_argument('--out_dim', help=\"Please give a value for out_dim\")\n",
    "        parser.add_argument('--residual', help=\"Please give a value for residual\")\n",
    "        parser.add_argument('--edge_feat', help=\"Please give a value for edge_feat\")\n",
    "        parser.add_argument('--readout', help=\"Please give a value for readout\")\n",
    "        parser.add_argument('--kernel', help=\"Please give a value for kernel\")\n",
    "        parser.add_argument('--n_heads', help=\"Please give a value for n_heads\")\n",
    "        parser.add_argument('--gated', help=\"Please give a value for gated\")\n",
    "        parser.add_argument('--in_feat_dropout', help=\"Please give a value for in_feat_dropout\")\n",
    "        parser.add_argument('--dropout', help=\"Please give a value for dropout\")\n",
    "        parser.add_argument('--layer_norm', help=\"Please give a value for layer_norm\")\n",
    "        parser.add_argument('--batch_norm', help=\"Please give a value for batch_norm\")\n",
    "        parser.add_argument('--sage_aggregator', help=\"Please give a value for sage_aggregator\")\n",
    "        parser.add_argument('--data_mode', help=\"Please give a value for data_mode\")\n",
    "        parser.add_argument('--num_pool', help=\"Please give a value for num_pool\")\n",
    "        parser.add_argument('--gnn_per_block', help=\"Please give a value for gnn_per_block\")\n",
    "        parser.add_argument('--embedding_dim', help=\"Please give a value for embedding_dim\")\n",
    "        parser.add_argument('--pool_ratio', help=\"Please give a value for pool_ratio\")\n",
    "        parser.add_argument('--linkpred', help=\"Please give a value for linkpred\")\n",
    "        parser.add_argument('--cat', help=\"Please give a value for cat\")\n",
    "        parser.add_argument('--self_loop', help=\"Please give a value for self_loop\")\n",
    "        parser.add_argument('--max_time', help=\"Please give a value for max_time\")\n",
    "        args = parser.parse_args()\n",
    "        with open(args.config) as f:\n",
    "            config = json.load(f)\n",
    "            \n",
    "\n",
    "        # device\n",
    "        if args.gpu_id is not None:\n",
    "            config['gpu']['id'] = int(args.gpu_id)\n",
    "            config['gpu']['use'] = True\n",
    "        device = gpu_setup(config['gpu']['use'], config['gpu']['id'])\n",
    "\n",
    "        # model, dataset, out_dir\n",
    "        if args.model is not None:\n",
    "            MODEL_NAME = args.model\n",
    "        else:\n",
    "            MODEL_NAME = config['model']\n",
    "        if args.dataset is not None:\n",
    "            DATASET_NAME = args.dataset\n",
    "        else:\n",
    "            DATASET_NAME = config['dataset']\n",
    "        dataset = LoadData(DATASET_NAME)\n",
    "        if args.out_dir is not None:\n",
    "            out_dir = args.out_dir\n",
    "        else:\n",
    "            out_dir = config['out_dir']\n",
    "\n",
    "        # parameters\n",
    "        params = config['params']\n",
    "        if args.seed is not None:\n",
    "            params['seed'] = int(args.seed)\n",
    "        if args.epochs is not None:\n",
    "            params['epochs'] = int(args.epochs)\n",
    "        if args.batch_size is not None:\n",
    "            params['batch_size'] = int(args.batch_size)\n",
    "        if args.init_lr is not None:\n",
    "            params['init_lr'] = float(args.init_lr)\n",
    "        if args.lr_reduce_factor is not None:\n",
    "            params['lr_reduce_factor'] = float(args.lr_reduce_factor)\n",
    "        if args.lr_schedule_patience is not None:\n",
    "            params['lr_schedule_patience'] = int(args.lr_schedule_patience)\n",
    "        if args.min_lr is not None:\n",
    "            params['min_lr'] = float(args.min_lr)\n",
    "        if args.weight_decay is not None:\n",
    "            params['weight_decay'] = float(args.weight_decay)\n",
    "        if args.print_epoch_interval is not None:\n",
    "            params['print_epoch_interval'] = int(args.print_epoch_interval)\n",
    "        if args.max_time is not None:\n",
    "            params['max_time'] = float(args.max_time)\n",
    "\n",
    "        # network parameters\n",
    "        net_params = config['net_params']\n",
    "        net_params['device'] = device\n",
    "        net_params['gpu_id'] = config['gpu']['id']\n",
    "        net_params['batch_size'] = params['batch_size']\n",
    "        if args.L is not None:\n",
    "            net_params['L'] = int(args.L)\n",
    "        if args.hidden_dim is not None:\n",
    "            net_params['hidden_dim'] = int(args.hidden_dim)\n",
    "        if args.out_dim is not None:\n",
    "            net_params['out_dim'] = int(args.out_dim)   \n",
    "        if args.residual is not None:\n",
    "            net_params['residual'] = True if args.residual=='True' else False\n",
    "        if args.edge_feat is not None:\n",
    "            net_params['edge_feat'] = True if args.edge_feat=='True' else False\n",
    "        if args.readout is not None:\n",
    "            net_params['readout'] = args.readout\n",
    "        if args.kernel is not None:\n",
    "            net_params['kernel'] = int(args.kernel)\n",
    "        if args.n_heads is not None:\n",
    "            net_params['n_heads'] = int(args.n_heads)\n",
    "        if args.gated is not None:\n",
    "            net_params['gated'] = True if args.gated=='True' else False\n",
    "        if args.in_feat_dropout is not None:\n",
    "            net_params['in_feat_dropout'] = float(args.in_feat_dropout)\n",
    "        if args.dropout is not None:\n",
    "            net_params['dropout'] = float(args.dropout)\n",
    "        if args.layer_norm is not None:\n",
    "            net_params['layer_norm'] = True if args.layer_norm=='True' else False\n",
    "        if args.batch_norm is not None:\n",
    "            net_params['batch_norm'] = True if args.batch_norm=='True' else False\n",
    "        if args.sage_aggregator is not None:\n",
    "            net_params['sage_aggregator'] = args.sage_aggregator\n",
    "        if args.data_mode is not None:\n",
    "            net_params['data_mode'] = args.data_mode\n",
    "        if args.num_pool is not None:\n",
    "            net_params['num_pool'] = int(args.num_pool)\n",
    "        if args.gnn_per_block is not None:\n",
    "            net_params['gnn_per_block'] = int(args.gnn_per_block)\n",
    "        if args.embedding_dim is not None:\n",
    "            net_params['embedding_dim'] = int(args.embedding_dim)\n",
    "        if args.pool_ratio is not None:\n",
    "            net_params['pool_ratio'] = float(args.pool_ratio)\n",
    "        if args.linkpred is not None:\n",
    "            net_params['linkpred'] = True if args.linkpred=='True' else False\n",
    "        if args.cat is not None:\n",
    "            net_params['cat'] = True if args.cat=='True' else False\n",
    "        if args.self_loop is not None:\n",
    "            net_params['self_loop'] = True if args.self_loop=='True' else False\n",
    "\n",
    "            \n",
    "    # notebook mode\n",
    "    if notebook_mode:\n",
    "        \n",
    "        # parameters\n",
    "        params = config['params']\n",
    "        \n",
    "        # dataset\n",
    "        DATASET_NAME = config['dataset']\n",
    "        dataset = LoadData(DATASET_NAME)\n",
    "        \n",
    "        # device\n",
    "        device = gpu_setup(config['gpu']['use'], config['gpu']['id'])\n",
    "        out_dir = config['out_dir']\n",
    "        \n",
    "        # GNN model\n",
    "        MODEL_NAME = config['model']\n",
    "        \n",
    "        # network parameters\n",
    "        net_params = config['net_params']\n",
    "        net_params['device'] = device\n",
    "        net_params['gpu_id'] = config['gpu']['id']\n",
    "        net_params['batch_size'] = params['batch_size']\n",
    "              \n",
    "            \n",
    "    # Superpixels \n",
    "    net_params['in_dim'] = dataset.train[0][0].ndata['feat'][0].size(0)\n",
    "    net_params['in_dim_edge'] = dataset.train[0][0].edata['feat'][0].size(0)\n",
    "    num_classes = len(np.unique(np.array(dataset.train[:][1])))\n",
    "    net_params['n_classes'] = num_classes\n",
    "\n",
    "    if MODEL_NAME == 'DiffPool':\n",
    "        # calculate assignment dimension: pool_ratio * largest graph's maximum\n",
    "        # number of nodes  in the dataset\n",
    "        max_num_nodes_train = max([dataset.train[i][0].number_of_nodes() for i in range(len(dataset.train))])\n",
    "        max_num_nodes_test = max([dataset.test[i][0].number_of_nodes() for i in range(len(dataset.test))])\n",
    "        max_num_node = max(max_num_nodes_train, max_num_nodes_test)\n",
    "        net_params['assign_dim'] = int(max_num_node * net_params['pool_ratio']) * net_params['batch_size']\n",
    "        \n",
    "    if MODEL_NAME == 'RingGNN':\n",
    "        num_nodes_train = [dataset.train[i][0].number_of_nodes() for i in range(len(dataset.train))]\n",
    "        num_nodes_test = [dataset.test[i][0].number_of_nodes() for i in range(len(dataset.test))]\n",
    "        num_nodes = num_nodes_train + num_nodes_test\n",
    "        net_params['avg_node_num'] = int(np.ceil(np.mean(num_nodes)))\n",
    "        \n",
    "    \n",
    "    root_log_dir = out_dir + 'logs/' + MODEL_NAME + \"_\" + DATASET_NAME + \"_GPU\" + str(config['gpu']['id']) + \"_\" + time.strftime('%Hh%Mm%Ss_on_%b_%d_%Y')\n",
    "    root_ckpt_dir = out_dir + 'checkpoints/' + MODEL_NAME + \"_\" + DATASET_NAME + \"_GPU\" + str(config['gpu']['id']) + \"_\" + time.strftime('%Hh%Mm%Ss_on_%b_%d_%Y')\n",
    "    write_file_name = out_dir + 'results/result_' + MODEL_NAME + \"_\" + DATASET_NAME + \"_GPU\" + str(config['gpu']['id']) + \"_\" + time.strftime('%Hh%Mm%Ss_on_%b_%d_%Y')\n",
    "    write_config_file = out_dir + 'configs/config_' + MODEL_NAME + \"_\" + DATASET_NAME + \"_GPU\" + str(config['gpu']['id']) + \"_\" + time.strftime('%Hh%Mm%Ss_on_%b_%d_%Y')\n",
    "    dirs = root_log_dir, root_ckpt_dir, write_file_name, write_config_file\n",
    "\n",
    "    if not os.path.exists(out_dir + 'results'):\n",
    "        os.makedirs(out_dir + 'results')\n",
    "        \n",
    "    if not os.path.exists(out_dir + 'configs'):\n",
    "        os.makedirs(out_dir + 'configs')\n",
    "\n",
    "    net_params['total_param'] = view_model_param(MODEL_NAME, net_params)\n",
    "    trained_model,test_loader = train_val_pipeline(MODEL_NAME, dataset, params, net_params, dirs)\n",
    "    #Me\n",
    "    from train.train_superpixels_graph_classification import evaluate_network_final\n",
    "    epoch_test_loss, epoch_test_acc, final_prediction, scores = evaluate_network_final(trained_model, device, test_loader)\n",
    "    print(\"final predictions\",final_prediction)\n",
    "    \n",
    "if notebook_mode==True:\n",
    "    \n",
    "    config = {}\n",
    "    # gpu config\n",
    "    gpu = {}\n",
    "    gpu['use'] = use_gpu\n",
    "    gpu['id'] = gpu_id\n",
    "    config['gpu'] = gpu\n",
    "    # GNN model, dataset, out_dir\n",
    "    config['model'] = MODEL_NAME\n",
    "    config['dataset'] = DATASET_NAME\n",
    "    config['out_dir'] = out_dir\n",
    "    # parameters\n",
    "    params = {}\n",
    "    params['seed'] = seed\n",
    "    params['epochs'] = epochs\n",
    "    params['batch_size'] = batch_size\n",
    "    params['init_lr'] = init_lr\n",
    "    params['lr_reduce_factor'] = lr_reduce_factor \n",
    "    params['lr_schedule_patience'] = lr_schedule_patience\n",
    "    params['min_lr'] = min_lr\n",
    "    params['weight_decay'] = weight_decay\n",
    "    params['print_epoch_interval'] = 5\n",
    "    params['max_time'] = max_time\n",
    "    config['params'] = params\n",
    "    # network parameters\n",
    "    config['net_params'] = net_params\n",
    "    \n",
    "    # convert to .py format\n",
    "    from utils.cleaner_main import *\n",
    "    cleaner_main('main_superpixels_graph_classification')\n",
    "    \n",
    "    main(True,config)\n",
    "    \n",
    "else:\n",
    "    \n",
    "    main()\n",
    "    "
   ]
  },
  {
   "cell_type": "code",
   "execution_count": 17,
   "metadata": {},
   "outputs": [
    {
     "name": "stdout",
     "output_type": "stream",
     "text": [
      "This is tmp 119547037146038801333356\n"
     ]
    }
   ],
   "source": [
    "with open('C:/Users/rezav/PycharmProjects/benchmarking-gnns/out/superpixels_graph_classification/checkpoints/GatedGCN_CP_GPU-1_13h12m53s_on_Feb_28_2021/RUN_/epoch_294.pkl', 'rb') as f:\n",
    "    tmp = pickle.load(f)\n",
    "    print(\"This is tmp\",tmp)"
   ]
  },
  {
   "cell_type": "code",
   "execution_count": 26,
   "metadata": {},
   "outputs": [],
   "source": [
    "# \"\"\"\n",
    "#     PARAMETERS\n",
    "# \"\"\"\n",
    "if notebook_mode == True:\n",
    "\n",
    "    n_heads = -1\n",
    "    edge_feat = False\n",
    "    pseudo_dim_MoNet = -1\n",
    "    kernel = -1\n",
    "    gnn_per_block = -1\n",
    "    embedding_dim = -1\n",
    "    pool_ratio = -1\n",
    "    n_mlp_GIN = -1\n",
    "    gated = False\n",
    "    self_loop = False\n",
    "    #self_loop = True\n",
    "    max_time = 12\n",
    "    \n",
    "    \n",
    "\n",
    "    if MODEL_NAME == 'GatedGCN':\n",
    "        seed=41; epochs=1000; batch_size=5; init_lr=5e-5; lr_reduce_factor=0.5; lr_schedule_patience=25; min_lr = 1e-6; weight_decay=0\n",
    "        L=4; hidden_dim=70; out_dim=hidden_dim; dropout=0.0; readout='mean'\n",
    "\n",
    "    if MODEL_NAME == 'GCN':\n",
    "        seed=41; epochs=1000; batch_size=5; init_lr=5e-5; lr_reduce_factor=0.5; lr_schedule_patience=25; min_lr = 1e-6; weight_decay=0\n",
    "        L=4; hidden_dim=146; out_dim=hidden_dim; dropout=0.0; readout='mean'\n",
    "\n",
    "    if MODEL_NAME == 'GAT':\n",
    "        seed=41; epochs=1000; batch_size=50; init_lr=5e-5; lr_reduce_factor=0.5; lr_schedule_patience=25; min_lr = 1e-6; weight_decay=0\n",
    "        L=4; n_heads=8; hidden_dim=19; out_dim=n_heads*hidden_dim; dropout=0.0; readout='mean'\n",
    "        print('True hidden dim:',out_dim)\n",
    "\n",
    "    if MODEL_NAME == 'GraphSage':\n",
    "        seed=41; epochs=1000; batch_size=50; init_lr=5e-5; lr_reduce_factor=0.5; lr_schedule_patience=25; min_lr = 1e-6; weight_decay=0\n",
    "        L=4; hidden_dim=108; out_dim=hidden_dim; dropout=0.0; readout='mean'\n",
    "\n",
    "    if MODEL_NAME == 'MLP':\n",
    "        seed=41; epochs=1000; batch_size=50; init_lr=5e-4; lr_reduce_factor=0.5; lr_schedule_patience=25; min_lr = 1e-6; weight_decay=0\n",
    "        gated=False; # MEAN\n",
    "        L=4; hidden_dim=168; out_dim=hidden_dim; dropout=0.0; readout='mean'\n",
    "        gated=True; # GATED\n",
    "        L=4; hidden_dim=150; out_dim=hidden_dim; dropout=0.0; readout='mean'\n",
    "        \n",
    "    if MODEL_NAME == 'DiffPool':\n",
    "        seed=41; epochs=1000; batch_size=50; init_lr=5e-4; lr_reduce_factor=0.5; lr_schedule_patience=25; min_lr = 1e-6; weight_decay=0\n",
    "        L=4; hidden_dim=32; out_dim=hidden_dim; dropout=0.0; readout='mean'\n",
    "        n_heads=8; gnn_per_block=3; batch_size=128; pool_ratio=0.15\n",
    "        embedding_dim=32; # MNIST\n",
    "        #embedding_dim=16; # CIFAR10\n",
    "\n",
    "    if MODEL_NAME == 'GIN':\n",
    "        seed=41; epochs=1000; batch_size=50; init_lr=5e-4; lr_reduce_factor=0.5; lr_schedule_patience=25; min_lr = 1e-6; weight_decay=0\n",
    "        L=4; hidden_dim=110; out_dim=hidden_dim; dropout=0.0; readout='mean'\n",
    "        n_mlp_GIN = 2; learn_eps_GIN=True; neighbor_aggr_GIN='sum'\n",
    "\n",
    "    if MODEL_NAME == 'MoNet':\n",
    "        seed=41; epochs=1000; batch_size=50; init_lr=5e-4; lr_reduce_factor=0.5; lr_schedule_patience=25; min_lr = 1e-6; weight_decay=0\n",
    "        L=4; hidden_dim=90; out_dim=hidden_dim; dropout=0.0; readout='mean'\n",
    "        pseudo_dim_MoNet=2; kernel=3;\n",
    "        \n",
    "    if MODEL_NAME == 'RingGNN':\n",
    "        seed=41; epochs=1000; batch_size=1; init_lr=5e-5; lr_reduce_factor=0.5; lr_schedule_patience=25; min_lr = 1e-6; weight_decay=0\n",
    "        #L=4; hidden_dim=145; out_dim=hidden_dim; dropout=0.0; readout='mean'\n",
    "        L=4; hidden_dim=25; out_dim=hidden_dim; dropout=0.0;\n",
    "        \n",
    "    if MODEL_NAME == '3WLGNN':\n",
    "        seed=41; epochs=1000; batch_size=1; init_lr=5e-5; lr_reduce_factor=0.5; lr_schedule_patience=25; min_lr = 1e-6; weight_decay=0\n",
    "        #L=4; hidden_dim=145; out_dim=hidden_dim; dropout=0.0; readout='mean'\n",
    "        L=3; hidden_dim=80; out_dim=hidden_dim; dropout=0.0;\n",
    "      \n",
    "    \n",
    "    \n",
    "    # generic new_params\n",
    "    net_params = {}\n",
    "    net_params['device'] = device\n",
    "    net_params['gated'] = gated  # for mlpnet baseline\n",
    "    net_params['in_dim'] = trainset[0][0].ndata['feat'][0].size(0)\n",
    "    net_params['in_dim_edge'] = trainset[0][0].edata['feat'][0].size(0)\n",
    "    net_params['residual'] = True\n",
    "    net_params['hidden_dim'] = hidden_dim\n",
    "    net_params['out_dim'] = out_dim\n",
    "    num_classes = len(np.unique(np.array(trainset[:][1])))\n",
    "    net_params['n_classes'] = num_classes\n",
    "    net_params['n_heads'] = n_heads\n",
    "    net_params['L'] = L  # min L should be 2\n",
    "    net_params['readout'] = \"sum\"\n",
    "    net_params['layer_norm'] = True\n",
    "    net_params['batch_norm'] = True\n",
    "    net_params['in_feat_dropout'] = 0.0\n",
    "    net_params['dropout'] = 0.0\n",
    "    net_params['edge_feat'] = edge_feat\n",
    "    net_params['self_loop'] = self_loop\n",
    "\n",
    "    # for MLPNet \n",
    "    net_params['gated'] = gated  \n",
    "    \n",
    "    # specific for MoNet\n",
    "    net_params['pseudo_dim_MoNet'] = pseudo_dim_MoNet\n",
    "    net_params['kernel'] = kernel\n",
    "    \n",
    "    # specific for GIN\n",
    "    net_params['n_mlp_GIN'] = n_mlp_GIN\n",
    "    net_params['learn_eps_GIN'] = True\n",
    "    net_params['neighbor_aggr_GIN'] = 'sum'\n",
    "    \n",
    "    # specific for graphsage\n",
    "    net_params['sage_aggregator'] = 'meanpool'    \n",
    "\n",
    "    # specific for diffpoolnet\n",
    "    net_params['data_mode'] = 'default'\n",
    "    net_params['gnn_per_block'] = gnn_per_block\n",
    "    net_params['embedding_dim'] = embedding_dim     \n",
    "    net_params['pool_ratio'] = pool_ratio\n",
    "    net_params['linkpred'] = True\n",
    "    net_params['num_pool'] = 1\n",
    "    net_params['cat'] = False\n",
    "    net_params['batch_size'] = batch_size   \n",
    "\n",
    "    # specific for RingGNN\n",
    "    net_params['radius'] = 2\n",
    "    num_nodes_train = [trainset[i][0].number_of_nodes() for i in range(len(trainset))]\n",
    "    num_nodes_test = [testset[i][0].number_of_nodes() for i in range(len(testset))]\n",
    "    num_nodes = num_nodes_train + num_nodes_test\n",
    "    net_params['avg_node_num'] = int(np.ceil(np.mean(num_nodes)))\n",
    "    \n",
    "    # specific for 3WLGNN\n",
    "    net_params['depth_of_mlp'] = 2\n",
    "    \n",
    "    # calculate assignment dimension: pool_ratio * largest graph's maximum\n",
    "    # number of nodes  in the dataset\n",
    "    max_num_nodes_train = max(num_nodes_train)\n",
    "    max_num_nodes_test = max(num_nodes_test)\n",
    "    max_num_node = max(max_num_nodes_train, max_num_nodes_test)\n",
    "    net_params['assign_dim'] = int(max_num_node * net_params['pool_ratio']) * net_params['batch_size']\n",
    "\n",
    "    #Warm start:\n",
    "    net_params['war_start_flag'] = True\n",
    "    net_params['war_start_path'] = 'C:/Users/rezav/PycharmProjects/benchmarking-gnns/out/superpixels_graph_classification/checkpoints/GatedGCN_CP_GPU-1_13h12m53s_on_Feb_28_2021/RUN_/epoch_294.pkl'\n",
    "\n",
    "    "
   ]
  },
  {
   "cell_type": "code",
   "execution_count": 19,
   "metadata": {},
   "outputs": [],
   "source": [
    "PATH = 'C:/Users/rezav/PycharmProjects/benchmarking-gnns/out/superpixels_graph_classification/checkpoints/GatedGCN_CP_GPU-1_13h12m53s_on_Feb_28_2021/RUN_/epoch_294.pkl'\n"
   ]
  },
  {
   "cell_type": "code",
   "execution_count": 20,
   "metadata": {},
   "outputs": [
    {
     "data": {
      "text/plain": [
       "GatedGCNNet(\n",
       "  (embedding_h): Linear(in_features=5, out_features=70, bias=True)\n",
       "  (embedding_e): Linear(in_features=1, out_features=70, bias=True)\n",
       "  (layers): ModuleList(\n",
       "    (0): GatedGCNLayer(in_channels=70, out_channels=70)\n",
       "    (1): GatedGCNLayer(in_channels=70, out_channels=70)\n",
       "    (2): GatedGCNLayer(in_channels=70, out_channels=70)\n",
       "    (3): GatedGCNLayer(in_channels=70, out_channels=70)\n",
       "  )\n",
       "  (MLP_layer): MLPReadout(\n",
       "    (FC_layers): ModuleList(\n",
       "      (0): Linear(in_features=70, out_features=35, bias=True)\n",
       "      (1): Linear(in_features=35, out_features=17, bias=True)\n",
       "      (2): Linear(in_features=17, out_features=3, bias=True)\n",
       "    )\n",
       "  )\n",
       ")"
      ]
     },
     "execution_count": 20,
     "metadata": {},
     "output_type": "execute_result"
    }
   ],
   "source": [
    "# model = TheModelClass(*args, **kwargs)\n",
    "model = gnn_model(MODEL_NAME, net_params)\n",
    "model.load_state_dict(torch.load(PATH))\n",
    "model.eval()"
   ]
  },
  {
   "cell_type": "code",
   "execution_count": 23,
   "metadata": {},
   "outputs": [],
   "source": [
    "test_loader = DataLoader(testset, batch_size=5, shuffle=False, drop_last=False, collate_fn=dataset.collate)\n",
    "epoch_test_loss, epoch_test_acc, final_prediction, scores, final_labels = evaluate_network_final(model, device, test_loader)\n"
   ]
  },
  {
   "cell_type": "code",
   "execution_count": 24,
   "metadata": {},
   "outputs": [
    {
     "name": "stdout",
     "output_type": "stream",
     "text": [
      "final predictions 494\n"
     ]
    }
   ],
   "source": [
    "print(\"final predictions\",len(final_labels))"
   ]
  },
  {
   "cell_type": "code",
   "execution_count": 25,
   "metadata": {},
   "outputs": [
    {
     "name": "stdout",
     "output_type": "stream",
     "text": [
      "confusion matrix  [[ 37  11  36]\n",
      " [ 62  73 125]\n",
      " [ 24  34  92]]\n"
     ]
    }
   ],
   "source": [
    "from sklearn.metrics import confusion_matrix\n",
    "\n",
    "# Me: I am adding confusion matrix\n",
    "results = confusion_matrix(final_labels, final_prediction)##(expected, predicted)\n",
    "print(\"confusion matrix \",results)"
   ]
  },
  {
   "cell_type": "code",
   "execution_count": null,
   "metadata": {},
   "outputs": [],
   "source": []
  }
 ],
 "metadata": {
  "kernelspec": {
   "display_name": "Python 3",
   "language": "python",
   "name": "python3"
  },
  "language_info": {
   "codemirror_mode": {
    "name": "ipython",
    "version": 3
   },
   "file_extension": ".py",
   "mimetype": "text/x-python",
   "name": "python",
   "nbconvert_exporter": "python",
   "pygments_lexer": "ipython3",
   "version": "3.7.4"
  }
 },
 "nbformat": 4,
 "nbformat_minor": 4
}
